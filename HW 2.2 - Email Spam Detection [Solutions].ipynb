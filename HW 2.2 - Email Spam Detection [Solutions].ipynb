{
 "cells": [
  {
   "cell_type": "markdown",
   "metadata": {},
   "source": [
    "# HW 2.2 - Email Spam Detection [50 + 5 points]\n",
    "\n",
    "   * Dataset and updates: https://gist.github.com/emaadmanzoor/aedddf2b69e54a9a2fd320230bbb692a\n",
    "   * Contact TA: Rashmi Raghunandan (rashmir[at]andrew.cmu.edu)\n",
    "\n",
    "*Please only attempt bonus point problems after completing the non-bonus questions.*\n",
    "\n",
    "## Get the data\n",
    "\n",
    "   * Unzip the data into the same folder as the notebook.\n",
    "   * There are 3 folders in the Dataset folder:\n",
    "   * The folder \"ham\" contains all training non-spam email.\n",
    "   * The folder \"spam\" contains all training spam email.\n",
    "   * The folder \"testing\" is meant for the test data.\n",
    "   * The folder \"evaluation-testing\" is meant for you to make predicitons without knowing the actual labels (this should be empty right now).\n",
    "\n",
    "## Find the number of emails present in the ham and spam folders [5 points]\n",
    " \n",
    "Do you find something unexpected from the distribution (e.g., whether the dataset is balanced)? Will this be problematic in training the model? If so, could you give some idea about how to address it and explain why your idea should work?"
   ]
  },
  {
   "cell_type": "code",
   "execution_count": 1,
   "metadata": {},
   "outputs": [
    {
     "name": "stdout",
     "output_type": "stream",
     "text": [
      "3659\n",
      "1488\n"
     ]
    }
   ],
   "source": [
    "import os\n",
    "import re\n",
    "\n",
    "path = './HW2-data/spam'\n",
    "spam_count = 0\n",
    "for file_name in os.listdir(path):\n",
    "    spam_count+=1\n",
    "    \n",
    "path = './HW2-data/ham'\n",
    "ham_count = 0\n",
    "for file_name in os.listdir(path):\n",
    "    ham_count+=1\n",
    "\n",
    "print(spam_count)\n",
    "print(ham_count)"
   ]
  },
  {
   "cell_type": "markdown",
   "metadata": {},
   "source": [
    "## Create a list of words [2.5 points]\n",
    " \n",
    "Below is a function that returns a list of words present in a file given a fileName. In the comments, you can find numbers from (1)- (4). In your own words, explain the purpose of these lines of code. "
   ]
  },
  {
   "cell_type": "code",
   "execution_count": 2,
   "metadata": {
    "collapsed": true
   },
   "outputs": [],
   "source": [
    "from collections import Counter\n",
    "import re\n",
    "import pandas as pd\n",
    "from collections import Counter\n",
    "import string\n",
    "\n",
    "def makeWordList(path):\n",
    "    \n",
    "    with open(path) as f:\n",
    "        corpus_text = f.read()\n",
    "\n",
    "    for c in string.punctuation:\n",
    "        corpus_text = corpus_text.replace(c, \"\")  # -- (1)\n",
    "    \n",
    "    text = re.sub(r'\\S*\\d\\S*','',corpus_text) # -- (2)\n",
    "    text = re.sub(r'[^\\w\\s]','',text)         # -- (3)\n",
    "    \n",
    "    text = text.lower().split()           # -- (4)         \n",
    "    \n",
    "    li = []\n",
    "    for token in text:\n",
    "        li.append(token)\n",
    "\n",
    "    return li"
   ]
  },
  {
   "cell_type": "markdown",
   "metadata": {},
   "source": [
    "1 - Removes punctuations from text\n",
    "2 - Removes any word that contains a digit\n",
    "3 - Removes multiple spaces\n",
    "4 - Converts the word to lower case"
   ]
  },
  {
   "cell_type": "markdown",
   "metadata": {},
   "source": [
    "## Create two list of lists by calling the above function on every file of the spam and ham folders. Name the two lists ham and spam [2.5 points]\n",
    "\n",
    "The lengths of these lists should match that in your first question.\n",
    "\n",
    "For eg. Your spam list contatins multiple inner lists. Each of these inner lists have the words in that email. "
   ]
  },
  {
   "cell_type": "code",
   "execution_count": 3,
   "metadata": {},
   "outputs": [
    {
     "name": "stdout",
     "output_type": "stream",
     "text": [
      "3659\n",
      "1488\n"
     ]
    }
   ],
   "source": [
    "spam = []\n",
    "ham = []\n",
    "path = './HW2-data/spam/'\n",
    "for file_name in os.listdir(path):\n",
    "    spam.append(makeWordList((path + file_name)))\n",
    "path = './HW2-data/ham/'\n",
    "for file_name in os.listdir(path):\n",
    "    ham.append(makeWordList((path + file_name)))\n",
    "print(len(spam))\n",
    "print(len(ham))"
   ]
  },
  {
   "cell_type": "markdown",
   "metadata": {
    "collapsed": true
   },
   "source": [
    "## Feature Extraction [7.5 points]\n",
    "\n",
    "We will now use the list of  you created above to create a feature matrix.\n",
    "Our feature  matrix is a binary feature matrix which indicates if a word is present in an email.\n",
    "The above function does not acount for duplicate words. In your feature set, you need to ensure that every word occurs only once. Below is some code to help you get the list of unique words:\n",
    "\n",
    "all_words = [j for i in li for j in i]\n",
    "all_words = list(set(all_words))\n",
    "\n",
    "   - (i) Some of these words might be stop words. To help you remove them, a stopword.txt file has been provided.\n",
    "   - (ii) Using all the words will take a long time to run. Take any random 1000 words for your implementation.\n",
    "\n",
    "\n",
    "Write a function to create and return the feature matrix.\n",
    "\n",
    "\n",
    "\n"
   ]
  },
  {
   "cell_type": "code",
   "execution_count": 4,
   "metadata": {
    "collapsed": true
   },
   "outputs": [],
   "source": [
    "import numpy as np\n",
    "def extractFeatures(li,all_words):\n",
    "    features_matrix = np.zeros((len(li),len(all_words)))\n",
    "    i = 0\n",
    "    for m in range(len(li)):\n",
    "        #if(i%100==0):\n",
    "            #print(str(i)+\" rows created\")\n",
    "        for l in li[m]:\n",
    "            if l in all_words:\n",
    "                j = all_words.index(l)\n",
    "                features_matrix[i][j] = 1\n",
    "        i+=1\n",
    "\n",
    "    return features_matrix\n"
   ]
  },
  {
   "cell_type": "markdown",
   "metadata": {},
   "source": [
    "## Training set [2.5 points]\n",
    "\n",
    "First, we will need to create a training set. Till now we have worked with spam and ham seperately. We will merge the two to create a new list. Use the code:\n",
    "training = spam + ham\n",
    "\n",
    "Call the function from part d on training.\n",
    "Create a lables vector y. y will be 0 for all ham and 1 for all spam."
   ]
  },
  {
   "cell_type": "code",
   "execution_count": 5,
   "metadata": {
    "collapsed": true
   },
   "outputs": [],
   "source": [
    "import random\n",
    "training = ham + spam\n",
    "all_words = [j for i in training for j in i]\n",
    "with open('./HW2-data/stopwords.txt') as f:\n",
    "    stopwords = f.read().splitlines()\n",
    "all_words = [x for x in all_words if x not in stopwords]\n",
    "random.shuffle(all_words)\n",
    "all_words = list(set(all_words))\n",
    "all_words  =  all_words[:1000] \n",
    "f = extractFeatures(training,all_words)\n",
    "y = np.zeros(len(f))\n",
    "y[len(ham):] = 1"
   ]
  },
  {
   "cell_type": "markdown",
   "metadata": {},
   "source": [
    "## Cross Validation [5 points]\n",
    "Write a cross validation function. This function must input a classifier, the training Matrix, the label vector and number of folds.\n",
    "\n",
    "The function must divide the training data into folds and treat each fold as test data and return the average weighted F1-score obtained by the different folds."
   ]
  },
  {
   "cell_type": "code",
   "execution_count": 6,
   "metadata": {
    "collapsed": true
   },
   "outputs": [],
   "source": [
    "from sklearn.model_selection import KFold\n",
    "from sklearn.metrics import accuracy_score\n",
    "from sklearn import metrics\n",
    "from sklearn.metrics import f1_score\n",
    "\n",
    "def kfoldCV(classifier,X,y,k=10):\n",
    "    kf = KFold(n_splits=k)\n",
    "    acc = []\n",
    "    i = 0\n",
    "    for train_index, test_index in kf.split(X):\n",
    "        #print(str(i)+\" fold\")\n",
    "        i+=1\n",
    "        X_train, X_test = X[train_index], X[test_index]\n",
    "        y_train, y_test = y[train_index], y[test_index]\n",
    "        classifier.fit(X_train, y_train)\n",
    "        y_pred = classifier.predict(X_test)\n",
    "        a = f1_score(y_test, y_pred)\n",
    "        acc.append(a)\n",
    "    #print(\"k fold putput\")\n",
    "    #print(acc)\n",
    "    return sum(acc) / float(len(acc))"
   ]
  },
  {
   "cell_type": "markdown",
   "metadata": {},
   "source": [
    "## KNN [2.5 points]\n",
    "\n",
    "KNearest Neighbour is a is a non-parametric method used for classification. \n",
    "Using the feature matrix and labels you created above, write code below to find the best K using cross validation. You must iterate over a range of possible k values and call the cross validation function you wrote in part h for each possible value of k. Find the k which gives you the best accuracy."
   ]
  },
  {
   "cell_type": "code",
   "execution_count": 7,
   "metadata": {},
   "outputs": [
    {
     "name": "stdout",
     "output_type": "stream",
     "text": [
      "1\n"
     ]
    },
    {
     "name": "stderr",
     "output_type": "stream",
     "text": [
      "/home/ubuntu/.local/lib/python2.7/site-packages/sklearn/metrics/classification.py:1137: UndefinedMetricWarning: F-score is ill-defined and being set to 0.0 due to no true samples.\n",
      "  'recall', 'true', average, warn_for)\n"
     ]
    },
    {
     "name": "stdout",
     "output_type": "stream",
     "text": [
      "2\n",
      "3\n",
      "4\n",
      "5\n",
      "6\n",
      "7\n",
      "8\n",
      "9\n",
      "10\n",
      "11\n",
      "1\n"
     ]
    }
   ],
   "source": [
    "from sklearn.neighbors import KNeighborsClassifier\n",
    "from sklearn.metrics import confusion_matrix\n",
    "from sklearn.metrics import f1_score\n",
    "\n",
    "import matplotlib.pyplot as plt\n",
    "def bestK(X,y,kf):\n",
    "    k = []\n",
    "    acc = []\n",
    "    for K in range(1,kf):\n",
    "        print(K)\n",
    "        neigh = KNeighborsClassifier(n_neighbors=K)\n",
    "        acc.append(kfoldCV(neigh,X,y,10))\n",
    "        k.append(K)\n",
    "    mac = max(acc)\n",
    "    maci = acc.index(mac)\n",
    "    #print(k)\n",
    "    #print(acc)\n",
    "    return k[maci]\n",
    "kf = 12 \n",
    "bk = bestK(f,y,kf)\n",
    "print(bk)"
   ]
  },
  {
   "cell_type": "markdown",
   "metadata": {},
   "source": [
    "## Feature matrix [5 points]\n",
    "\n",
    "Create the feature matrix for the test set using the same steps as above.  Predict the classifier output after chosing the best k from above. Read the name of the files in the testing directory. If they end with spam, it is a spam file. If they end with ham, it is a ham file. Create the true prediction array.\n",
    "Using the predicted and true values, create a confusion matrix.\n",
    "Plot the ROC curve for FPR and report the AUC value.\n",
    "\n",
    "Note: Some words from your test data may not have been present in the training data. There a multiple approaches to solving this problem. Clearly state your approach for dealing with this problem.  Report the weighted F1 score."
   ]
  },
  {
   "cell_type": "code",
   "execution_count": 11,
   "metadata": {
    "scrolled": true
   },
   "outputs": [
    {
     "name": "stdout",
     "output_type": "stream",
     "text": [
      "[1, 1, 1, 1, 1, 0, 0, 1, 0, 1, 1, 0, 1, 0, 1, 0, 1, 1, 1, 0, 0, 0, 1, 0, 0, 1, 0, 0, 1, 1, 0, 0, 1, 1, 0, 1, 1, 1, 0, 1, 0, 0, 1, 1, 0, 1, 0, 0, 0, 0, 0, 0, 1, 0, 1, 1, 0, 1, 0, 0]\n",
      "[[28  2]\n",
      " [21  9]]\n",
      "0.616666666667\n"
     ]
    },
    {
     "data": {
      "image/png": "[encoded data removed]",
      "text/plain": [
       "<matplotlib.figure.Figure at 0x7ff697bcff10>"
      ]
     },
     "metadata": {},
     "output_type": "display_data"
    },
    {
     "name": "stdout",
     "output_type": "stream",
     "text": [
      "('AUC:', 0.3833333333333333)\n",
      "F1:\n",
      "0.573942574869\n"
     ]
    }
   ],
   "source": [
    "neigh = KNeighborsClassifier(n_neighbors=bk)\n",
    "neigh.fit(f, y)\n",
    "\n",
    "Xt = []\n",
    "\n",
    "path = './HW2-data/testing/'\n",
    "\n",
    "ytrue = []\n",
    "cnt = 0\n",
    "names = []\n",
    "for file_name in os.listdir(path):\n",
    "    cnt+=1\n",
    "    name = file_name.split(\".\")\n",
    "    names.append(name[3])\n",
    "    if(name[3]==\"spam\"):\n",
    "        ytrue.append(1)\n",
    "    else:\n",
    "        ytrue.append(0)\n",
    "    Xt.append(makeWordList((path + file_name)))\n",
    "#print(names)\n",
    "print(ytrue)\n",
    "\n",
    "ft = extractFeatures(Xt,all_words)\n",
    "\n",
    "y_pred = neigh.predict(ft)\n",
    "cm = confusion_matrix(ytrue, y_pred)\n",
    "print(cm)\n",
    "print(accuracy_score(ytrue, y_pred))\n",
    "fpr, tpr, thresholds = metrics.roc_curve(ytrue, y_pred, pos_label=0)\n",
    "# Print ROC curve\n",
    "plt.plot(fpr,tpr)\n",
    "plt.show() \n",
    "\n",
    "# Print AUC\n",
    "auc = np.trapz(tpr,fpr)\n",
    "print('AUC:', auc)\n",
    "\n",
    "print(\"F1:\")\n",
    "print(f1_score(ytrue, y_pred, average='weighted'))"
   ]
  },
  {
   "cell_type": "markdown",
   "metadata": {},
   "source": [
    "## Bernoulli Naive Bayes [5 points]\n",
    "\n",
    "Implement Bernoulli Naive Bayes classification. Perform Laplace smoothning. To find the best valur for smoothening, performs the same steps as you did to find the best k. To help you, the grid to search over the best alpha is np.logspace(-2,10,5).\n",
    "Predict the values on the testing data and create a confusion matrix. Plot the ROC curve for FPR and report the AUC value. Report the weighted F1 score."
   ]
  },
  {
   "cell_type": "code",
   "execution_count": 14,
   "metadata": {},
   "outputs": [
    {
     "name": "stdout",
     "output_type": "stream",
     "text": [
      "0.01\n",
      "10.0\n",
      "10000.0\n",
      "10000000.0\n",
      "10000000000.0\n",
      "10000.0\n",
      "[[ 0 30]\n",
      " [ 0 30]]\n",
      "0.5\n"
     ]
    },
    {
     "data": {
      "image/png": "[encoded data removed]",
      "text/plain": [
       "<matplotlib.figure.Figure at 0x7ff6e01b2210>"
      ]
     },
     "metadata": {},
     "output_type": "display_data"
    },
    {
     "name": "stdout",
     "output_type": "stream",
     "text": [
      "('AUC:', 0.5)\n",
      "F1:\n",
      "0.333333333333\n"
     ]
    }
   ],
   "source": [
    "from sklearn.naive_bayes import MultinomialNB\n",
    "from sklearn.naive_bayes import BernoulliNB\n",
    "\n",
    "from sklearn.metrics import f1_score\n",
    "\n",
    "def bestAlpha(X,y,kf):\n",
    "    k = []\n",
    "    acc = []\n",
    "    for K in kf:\n",
    "        print(K)\n",
    "        neigh = BernoulliNB(alpha = K)\n",
    "        acc.append(kfoldCV(neigh,X,y,10))\n",
    "        k.append(K)\n",
    "    mac = max(acc)\n",
    "    maci = acc.index(mac)\n",
    "    #print(k)\n",
    "    #print(acc)\n",
    "    return k[maci]\n",
    "\n",
    "alphas = np.logspace(-2,10,5)\n",
    "a = bestAlpha(f,y,alphas)\n",
    "print(a)\n",
    "clf = BernoulliNB(alpha = a)\n",
    "clf.fit(f, y)\n",
    "y_pred = clf.predict(ft)\n",
    "print(confusion_matrix(ytrue, y_pred))\n",
    "print(accuracy_score(ytrue, y_pred))\n",
    "\n",
    "fpr, tpr, thresholds = metrics.roc_curve(ytrue, y_pred, pos_label=0)\n",
    "# Print ROC curve\n",
    "plt.plot(fpr,tpr)\n",
    "plt.show() \n",
    "\n",
    "# Print AUC\n",
    "auc = np.trapz(tpr,fpr)\n",
    "print('AUC:', auc)\n",
    "print(\"F1:\")\n",
    "print(f1_score(ytrue, y_pred, average='weighted'))"
   ]
  },
  {
   "cell_type": "markdown",
   "metadata": {},
   "source": [
    "## SVM kernels [5 points]\n",
    "\n",
    "Svm can be implemented with many kernels. Use any kernel of your choice. Select the best C using the same methods as you sued to select alpha and K. The range for c is 0.01 to 1000. You may use a step function if you wish.\n",
    "Briefly explain the kernel you chose and which kind of data it works best on. Predict the values on the testing data and create a confusion matrix. Plot the ROC curve for FPR and report the AUC value.  Report the weighted F1 score."
   ]
  },
  {
   "cell_type": "code",
   "execution_count": 13,
   "metadata": {},
   "outputs": [
    {
     "name": "stdout",
     "output_type": "stream",
     "text": [
      "***\n",
      "1000\n",
      "****\n",
      "[[ 7 23]\n",
      " [ 3 27]]\n",
      "0.566666666667\n"
     ]
    },
    {
     "data": {
      "image/png": "[encoded data removed]",
      "text/plain": [
       "<matplotlib.figure.Figure at 0x7ff6ab748fd0>"
      ]
     },
     "metadata": {},
     "output_type": "display_data"
    },
    {
     "name": "stdout",
     "output_type": "stream",
     "text": [
      "('AUC:', 0.43333333333333335)\n",
      "F1:\n",
      "0.5125\n"
     ]
    }
   ],
   "source": [
    "from sklearn.svm import SVC\n",
    "def bestC(X,y,cr):\n",
    "    k = []\n",
    "    acc = []\n",
    "    for K in cr:\n",
    "        clf = SVC(C=K)\n",
    "        acc.append(kfoldCV(clf,X,y,10))\n",
    "        k.append(K)\n",
    "    mac = max(acc)\n",
    "    maci = acc.index(mac)\n",
    "    return k[maci]\n",
    "\n",
    "cr = [0.01,1,10,100,1000] \n",
    "k = bestC(f,y,cr)\n",
    "#k = 1000\n",
    "print(\"***\")\n",
    "print(k)\n",
    "print(\"****\")\n",
    "clf = SVC(C=k)\n",
    "clf.fit(f, y)\n",
    "y_pred = clf.predict(ft)\n",
    "\n",
    "print(confusion_matrix(ytrue, y_pred))\n",
    "print(accuracy_score(ytrue, y_pred))\n",
    "fpr, tpr, thresholds = metrics.roc_curve(ytrue, y_pred, pos_label=0)\n",
    "# Print ROC curve\n",
    "plt.plot(fpr,tpr)\n",
    "plt.show() \n",
    "\n",
    "# Print AUC\n",
    "auc = np.trapz(tpr,fpr)\n",
    "print('AUC:', auc)\n",
    "print(\"F1:\")\n",
    "print(f1_score(ytrue, y_pred, average='weighted'))"
   ]
  },
  {
   "cell_type": "markdown",
   "metadata": {},
   "source": [
    "## Compare the F1-values of the above three methods. Comment on the value of F1 Score and explain the differences. [2.5 points]"
   ]
  },
  {
   "cell_type": "markdown",
   "metadata": {
    "collapsed": true
   },
   "source": []
  },
  {
   "cell_type": "markdown",
   "metadata": {},
   "source": [
    "## Custom method [5 points]\n",
    "\n",
    "You can now use any classifier of your choice and/or change the feature matrix to imporove the accuracy. In fact, you are allowed to make changes to any of the steps till this point.\n",
    "Predict the values on the testing data and create a confusion matrix. Plot the ROC curve for FPR and report the AUC value. \n",
    "Briefly explain your method (e.g., what features did you choose and why, how you selected the method to use).\n",
    "To get full credit for this part, your f1-score must be at least 0.43.\n",
    "\n",
    "**Important**: Do NOT make any code changes to the above code blocks. If you want to change any of those parts, please rewrite them in the box below (basically when grading we will run the above blocks first, and they should not use the custom code)."
   ]
  },
  {
   "cell_type": "code",
   "execution_count": null,
   "metadata": {
    "collapsed": true
   },
   "outputs": [],
   "source": []
  },
  {
   "cell_type": "markdown",
   "metadata": {},
   "source": [
    "## BONUS [5 points]\n",
    "Read the emails present in evaluation-testing. You must assume that the emails will be present in the same way as they were in the Testing folder.\n",
    "\n",
    "Print your predictions for those emails. The top 3 performers will receive 5 more bonus points.\n",
    "Note - These emails are not given to you right now, they are hidden. "
   ]
  },
  {
   "cell_type": "code",
   "execution_count": null,
   "metadata": {
    "collapsed": true
   },
   "outputs": [],
   "source": []
  }
 ],
 "metadata": {
  "kernelspec": {
   "display_name": "Python 3",
   "language": "python",
   "name": "python3"
  },
  "language_info": {
   "codemirror_mode": {
    "name": "ipython",
    "version": 3
   },
   "file_extension": ".py",
   "mimetype": "text/x-python",
   "name": "python",
   "nbconvert_exporter": "python",
   "pygments_lexer": "ipython3",
   "version": "3.6.3"
  }
 },
 "nbformat": 4,
 "nbformat_minor": 2
}
