{
 "cells": [
  {
   "cell_type": "markdown",
   "metadata": {},
   "source": [
    "# HW 2.2 - Email Spam Detection [50 + 5 points]\n",
    "\n",
    "   * Dataset and updates: https://gist.github.com/emaadmanzoor/aedddf2b69e54a9a2fd320230bbb692a\n",
    "   * Contact TA: Rashmi Raghunandan (rashmir[at]andrew.cmu.edu)\n",
    "\n",
    "*Please only attempt bonus point problems after completing the non-bonus questions.*\n",
    "\n",
    "## Get the data\n",
    "\n",
    "   * Unzip the data into the same folder as the notebook.\n",
    "   * There are 3 folders in the Dataset folder:\n",
    "   * The folder \"ham\" contains all training non-spam email.\n",
    "   * The folder \"spam\" contains all training spam email.\n",
    "   * The folder \"testing\" is meant for the test data.\n",
    "   * The folder \"evaluation-testing\" is meant for you to make predicitons without knowing the actual labels (this should be empty right now).\n",
    "\n",
    "## Find the number of emails present in the ham and spam folders [5 points]\n",
    " \n",
    "Do you find something unexpected from the distribution (e.g., whether the dataset is balanced)? Will this be problematic in training the model? If so, could you give some idea about how to address it and explain why your idea should work?"
   ]
  },
  {
   "cell_type": "code",
   "execution_count": 1,
   "metadata": {},
   "outputs": [
    {
     "name": "stdout",
     "output_type": "stream",
     "text": [
      "Number of emails present in the ham: 1488\n",
      "Number of emails present in the spam: 3659\n"
     ]
    }
   ],
   "source": [
    "import glob\n",
    "ham_emails = glob.glob('./Hw2-data/ham/*.txt')\n",
    "print(\"Number of emails present in the ham:\", len(ham_emails))\n",
    "spam_emails = glob.glob('./Hw2-data/spam/*.txt')\n",
    "print(\"Number of emails present in the spam:\", len(spam_emails))"
   ]
  },
  {
   "cell_type": "markdown",
   "metadata": {},
   "source": [
    "**The number of emails present in the spam folder almost twice as the number of emails present in the ham, which means the training dataset is unbalanced. This will be problematic in training the model, and caused classification difficulty.Since spam is the amlost twice the ham, we can treat the spam as another classification problem and divide it into two classes.**"
   ]
  },
  {
   "cell_type": "markdown",
   "metadata": {},
   "source": [
    "## Create a list of words [2.5 points]\n",
    " \n",
    "Below is a function that returns a list of words present in a file given a fileName. In the comments, you can find numbers from (1)- (4). In your own words, explain the purpose of these lines of code. "
   ]
  },
  {
   "cell_type": "code",
   "execution_count": 2,
   "metadata": {
    "collapsed": true
   },
   "outputs": [],
   "source": [
    "from collections import Counter\n",
    "import re\n",
    "import pandas as pd\n",
    "import string\n",
    "\n",
    "def makeWordList(path):\n",
    "    \n",
    "    with open(path, encoding ='ISO-8859-1') as f:\n",
    "        corpus_text = f.read()\n",
    "\n",
    "    for c in string.punctuation:\n",
    "        corpus_text = corpus_text.replace(c, \"\")  # --(1) \n",
    "    \n",
    "    text = re.sub(r'\\S*\\d\\S*','',corpus_text) # -- (2) \n",
    "    text = re.sub(r'[^\\w\\s]','',text)         # -- (3) \n",
    "    \n",
    "    text = text.lower().split()           # -- (4)      \n",
    "    \n",
    "    li = []\n",
    "    for token in text:\n",
    "        li.append(token)\n",
    "\n",
    "    return li"
   ]
  },
  {
   "cell_type": "markdown",
   "metadata": {},
   "source": [
    "**(1) remove all the punctuation strings  \n",
    "(2) remove all the digital number from the corpus_text    \n",
    "(3) remove all the non-word characters from the text  \n",
    "(4) change all the text to lower case and split the text into words **\n",
    " "
   ]
  },
  {
   "cell_type": "markdown",
   "metadata": {},
   "source": [
    "## Create two list of lists by calling the above function on every file of the spam and ham folders. Name the two lists ham and spam [2.5 points]\n",
    "\n",
    "The lengths of these lists should match that in your first question.\n",
    "\n",
    "For eg. Your spam list contatins multiple inner lists. Each of these inner lists have the words in that email. "
   ]
  },
  {
   "cell_type": "code",
   "execution_count": 3,
   "metadata": {},
   "outputs": [
    {
     "name": "stdout",
     "output_type": "stream",
     "text": [
      "Number of emails present in the ham: 1488\n",
      "Number of emails present in the spam: 3659\n"
     ]
    }
   ],
   "source": [
    "ham = [makeWordList(file) for file in ham_emails]\n",
    "print(\"Number of emails present in the ham:\", len(ham))\n",
    "spam = [makeWordList(file) for file in spam_emails]\n",
    "print(\"Number of emails present in the spam:\", len(spam))"
   ]
  },
  {
   "cell_type": "markdown",
   "metadata": {
    "collapsed": true
   },
   "source": [
    "## Feature Extraction [7.5 points]\n",
    "\n",
    "We will now use the list of  you created above to create a feature matrix.\n",
    "Our feature  matrix is a binary feature matrix which indicates if a word is present in an email.\n",
    "The above function does not acount for duplicate words. In your feature set, you need to ensure that every word occurs only once. Below is some code to help you get the list of unique words:\n",
    "\n",
    "all_words = [j for i in li for j in i]\n",
    "all_words = list(set(all_words))\n",
    "\n",
    "   - (i) Some of these words might be stop words. To help you remove them, a stopword.txt file has been provided.\n",
    "   - (ii) Using all the words will take a long time to run. Take any random 1000 words for your implementation.\n",
    "\n",
    "\n",
    "Write a function to create and return the feature matrix.\n",
    "\n",
    "\n",
    "\n"
   ]
  },
  {
   "cell_type": "code",
   "execution_count": 4,
   "metadata": {
    "collapsed": true
   },
   "outputs": [],
   "source": [
    "import random\n",
    "from sklearn.feature_extraction.text import CountVectorizer\n",
    "\n",
    "stopwords = makeWordList('./Hw2-data/stopwords.txt')\n",
    "all_words_spam = [j for i in spam for j in i if j not in stopwords] \n",
    "all_words_ham = [j for i in ham for j in i if j not in stopwords] \n",
    "all_words = all_words_spam + all_words_ham\n",
    "all_words = list(set(all_words))\n",
    "num_words = 1000\n",
    "random_words = random.sample(all_words, num_words)\n",
    "tf_vectorizer = CountVectorizer(vocabulary=random_words,max_features=num_words,\n",
    "                                stop_words=stopwords)"
   ]
  },
  {
   "cell_type": "code",
   "execution_count": 5,
   "metadata": {
    "collapsed": true
   },
   "outputs": [],
   "source": [
    "def makeFeatureMatrix(li):   \n",
    "    email_words = []\n",
    "    for i in range(len(li)):\n",
    "        word_list = [word for word in li[i] if word in random_words]\n",
    "        email_words.append(' '.join(list(set(word_list))))\n",
    "        #print(len(email_words[i]))\n",
    "    tf = tf_vectorizer.fit_transform(email_words)\n",
    "    return tf.toarray()"
   ]
  },
  {
   "cell_type": "markdown",
   "metadata": {},
   "source": [
    "## Training set [2.5 points]\n",
    "\n",
    "First, we will need to create a training set. Till now we have worked with spam and ham seperately. We will merge the two to create a new list. Use the code:\n",
    "training = spam + ham\n",
    "\n",
    "Call the function from part d on training.\n",
    "Create a lables vector y. y will be 0 for all ham and 1 for all spam."
   ]
  },
  {
   "cell_type": "code",
   "execution_count": 6,
   "metadata": {
    "collapsed": true
   },
   "outputs": [],
   "source": [
    "import numpy as np\n",
    "training = []\n",
    "training = spam + ham\n",
    "y = np.concatenate((np.ones(len(spam)),np.zeros(len(ham))), axis = 0) \n",
    "X = makeFeatureMatrix(training)"
   ]
  },
  {
   "cell_type": "markdown",
   "metadata": {},
   "source": [
    "## Cross Validation [5 points]\n",
    "Write a cross validation function. This function must input a classifier, the training Matrix, the label vector and number of folds.\n",
    "\n",
    "The function must divide the training data into folds and treat each fold as test data and return the average weighted F1-score obtained by the different folds."
   ]
  },
  {
   "cell_type": "code",
   "execution_count": 7,
   "metadata": {
    "collapsed": true
   },
   "outputs": [],
   "source": [
    "from sklearn.model_selection import KFold\n",
    "from sklearn.metrics import f1_score\n",
    "#sklearn.metrics.f1_score(y_true, y_pred, labels=None, pos_label=1, average=’binary’, sample_weight=None)\n",
    "def cross_validation(clf, X, y, n_folds):\n",
    "    k_fold = KFold(n_folds)\n",
    "    fold_scores = []\n",
    "    for k, (train, val) in enumerate(k_fold.split(X, y)):\n",
    "        clf.fit(X[train], y[train])     \n",
    "        ypred = clf.predict(X[val])\n",
    "        yval = y[val]\n",
    "        #accuracy = np.sum(ypred==yval)/len(ypred)\n",
    "        f_score_k = f1_score(yval, ypred)\n",
    "        fold_scores.append(f_score_k)  \n",
    "    f_score = np.average(fold_scores)#weights all equal to 1\n",
    "    return f_score"
   ]
  },
  {
   "cell_type": "markdown",
   "metadata": {},
   "source": [
    "## KNN [2.5 points]\n",
    "\n",
    "KNearest Neighbour is a is a non-parametric method used for classification. \n",
    "Using the feature matrix and labels you created above, write code below to find the best K using cross validation. You must iterate over a range of possible k values and call the cross validation function you wrote in part h for each possible value of k. Find the k which gives you the best accuracy."
   ]
  },
  {
   "cell_type": "code",
   "execution_count": 8,
   "metadata": {},
   "outputs": [
    {
     "name": "stderr",
     "output_type": "stream",
     "text": [
      "/anaconda3/lib/python3.6/site-packages/sklearn/metrics/classification.py:1137: UndefinedMetricWarning: F-score is ill-defined and being set to 0.0 due to no true samples.\n",
      "  'recall', 'true', average, warn_for)\n"
     ]
    },
    {
     "name": "stdout",
     "output_type": "stream",
     "text": [
      "K = 1 : 0.751510342835\n",
      "K = 2 : 0.746722725828\n",
      "K = 3 : 0.751187827375\n",
      "K = 4 : 0.748651215867\n",
      "K = 5 : 0.750369293328\n",
      "Best K: 1 with score: 0.751510342835\n"
     ]
    }
   ],
   "source": [
    "from sklearn.neighbors import KNeighborsClassifier\n",
    "Ks = np.arange(5)+1\n",
    "k_scores = []\n",
    "for k in Ks:\n",
    "    k_score = cross_validation(KNeighborsClassifier(n_neighbors=k), X, y, 5)\n",
    "    print(\"K =\", k, \":\", k_score)\n",
    "    k_scores.append(k_score)\n",
    "best_score_idx = np.argmax(k_scores)\n",
    "best_k = Ks[best_score_idx]\n",
    "print(\"Best K: \" + str(best_k) + \" with score: \" + str(k_scores[best_score_idx]))"
   ]
  },
  {
   "cell_type": "markdown",
   "metadata": {},
   "source": [
    "## Feature matrix [5 points]\n",
    "\n",
    "Create the feature matrix for the test set using the same steps as above.  Predict the classifier output after chosing the best k from above. Read the name of the files in the testing directory. If they end with spam, it is a spam file. If they end with ham, it is a ham file. Create the true prediction array.\n",
    "Using the predicted and true values, create a confusion matrix.\n",
    "Plot the ROC curve for FPR and report the AUC value.\n",
    "\n",
    "Note: Some words from your test data may not have been present in the training data. There a multiple approaches to solving this problem. Clearly state your approach for dealing with this problem.  Report the weighted F1 score."
   ]
  },
  {
   "cell_type": "code",
   "execution_count": 9,
   "metadata": {
    "collapsed": true
   },
   "outputs": [],
   "source": [
    "#read files in the testing folder\n",
    "testing_emails = glob.glob('./Hw2-data/testing/*.txt')\n",
    "testing_ham = []\n",
    "testing_spam = []\n",
    "# get the testing wordlists for ham and spam\n",
    "for email in testing_emails:\n",
    "    if email.endswith('ham.txt'):\n",
    "        testing_ham.append(makeWordList(email))\n",
    "    elif email.endswith('spam.txt'):\n",
    "        testing_spam.append(makeWordList(email))\n",
    "    else:\n",
    "        print(\"Unrecognised file name.\")"
   ]
  },
  {
   "cell_type": "code",
   "execution_count": 10,
   "metadata": {
    "collapsed": true,
    "scrolled": true
   },
   "outputs": [],
   "source": [
    "#get the testing word list\n",
    "testing =[]\n",
    "testing= testing_ham  + testing_spam\n",
    "\n",
    "\n",
    "#Create a lables vector y_test（y_true）. y_test will be 0 for all ham and 1 for all spam\n",
    "y_test = np.concatenate((np.zeros(len(testing_ham)),np.ones(len(testing_spam))), axis = 0) \n",
    "\n",
    "#get the feature matrix \n",
    "#Note: in the makeFeatureMatrix we filter the words only list in the random training data\n",
    "X_test = makeFeatureMatrix(testing)"
   ]
  },
  {
   "cell_type": "code",
   "execution_count": 11,
   "metadata": {},
   "outputs": [
    {
     "data": {
      "text/plain": [
       "(60, 1000)"
      ]
     },
     "execution_count": 11,
     "metadata": {},
     "output_type": "execute_result"
    }
   ],
   "source": [
    "X_test.shape"
   ]
  },
  {
   "cell_type": "code",
   "execution_count": 12,
   "metadata": {},
   "outputs": [
    {
     "name": "stdout",
     "output_type": "stream",
     "text": [
      "F1-score on test data: 0.740740740741\n"
     ]
    }
   ],
   "source": [
    "# get the accuracy on test data\n",
    "\n",
    "knn_clf = KNeighborsClassifier(n_neighbors=best_k)\n",
    "knn_clf.fit(X, y)      \n",
    "ypred = knn_clf.predict(X_test)\n",
    "knn_f_score = f1_score(y_test, ypred)\n",
    "print(\"F1-score on test data: \" + str(knn_f_score))"
   ]
  },
  {
   "cell_type": "code",
   "execution_count": 13,
   "metadata": {},
   "outputs": [
    {
     "data": {
      "text/plain": [
       "array([[ 9, 21],\n",
       "       [ 0, 30]])"
      ]
     },
     "execution_count": 13,
     "metadata": {},
     "output_type": "execute_result"
    }
   ],
   "source": [
    "from sklearn.metrics import confusion_matrix\n",
    "\n",
    "#get confusion matrix\n",
    "confusion_matrix(y_test, ypred, labels=None, sample_weight=None)\n",
    "#tn, fp, fn, tp = confusion_matrix(y_true=y_test, y_pred=ypred, labels=None, sample_weight=None).ravel()"
   ]
  },
  {
   "cell_type": "code",
   "execution_count": 14,
   "metadata": {},
   "outputs": [
    {
     "data": {
      "image/png": "[encoded data removed]",
      "text/plain": [
       "<matplotlib.figure.Figure at 0x1a11b10438>"
      ]
     },
     "metadata": {},
     "output_type": "display_data"
    }
   ],
   "source": [
    "import matplotlib.pyplot as plt\n",
    "from sklearn.metrics import roc_curve\n",
    "\n",
    "fpr, tpr, thresholds = roc_curve(y_test, ypred, pos_label=1)\n",
    "auc = np.trapz(tpr, fpr)\n",
    "plt.plot(fpr, tpr, label=\"AUC=\" + str(auc))\n",
    "plt.xlabel(\"FPR\")\n",
    "plt.ylabel(\"TPR\")\n",
    "plt.grid()\n",
    "plt.legend()\n",
    "plt.show() "
   ]
  },
  {
   "cell_type": "markdown",
   "metadata": {},
   "source": [
    "## Bernoulli Naive Bayes [5 points]\n",
    "\n",
    "Implement Bernoulli Naive Bayes classification. Perform Laplace smoothning. To find the best value for smoothening, performs the same steps as you did to find the best k. To help you, the grid to search over the best alpha is np.logspace(-2,10,5).\n",
    "Predict the values on the testing data and create a confusion matrix. Plot the ROC curve for FPR and report the AUC value. Report the weighted F1 score."
   ]
  },
  {
   "cell_type": "code",
   "execution_count": 15,
   "metadata": {},
   "outputs": [
    {
     "name": "stderr",
     "output_type": "stream",
     "text": [
      "/anaconda3/lib/python3.6/site-packages/sklearn/metrics/classification.py:1137: UndefinedMetricWarning: F-score is ill-defined and being set to 0.0 due to no true samples.\n",
      "  'recall', 'true', average, warn_for)\n"
     ]
    },
    {
     "name": "stdout",
     "output_type": "stream",
     "text": [
      "alpha = 0.01 : 0.747294235306\n",
      "alpha = 10.0 : 0.742447599005\n",
      "alpha = 10000.0 : 0.742589118199\n",
      "alpha = 10000000.0 : 0.742589118199\n",
      "alpha = 10000000000.0 : 0.742589118199\n",
      "Best alpha: 0.01 with score: 0.747294235306\n"
     ]
    }
   ],
   "source": [
    "from sklearn.naive_bayes import BernoulliNB\n",
    "\n",
    "alphas = np.logspace(-2,10,5)\n",
    "alpha_scores = []\n",
    "\n",
    "for a in alphas:\n",
    "    alpha_score = cross_validation(BernoulliNB(alpha=a), X, y, 5)\n",
    "    print(\"alpha =\", a, \":\",alpha_score)\n",
    "    alpha_scores.append(alpha_score)\n",
    "best_score_idx = np.argmax(alpha_scores)\n",
    "best_alpha = alphas[best_score_idx]\n",
    "print(\"Best alpha: \" + str(best_alpha) + \" with score: \" + str(alpha_scores[best_score_idx]))"
   ]
  },
  {
   "cell_type": "code",
   "execution_count": 16,
   "metadata": {
    "collapsed": true
   },
   "outputs": [],
   "source": [
    "nb_clf = BernoulliNB(alpha=best_alpha)\n",
    "nb_clf.fit(X, y)  \n",
    "nb_ypred = nb_clf.predict(X_test)"
   ]
  },
  {
   "cell_type": "code",
   "execution_count": 17,
   "metadata": {},
   "outputs": [
    {
     "name": "stdout",
     "output_type": "stream",
     "text": [
      "F1-score on test data: 0.736842105263\n"
     ]
    }
   ],
   "source": [
    "nb_f_score = f1_score(y_test, nb_ypred)\n",
    "#accuracy = np.sum(ypred==y_test)/len(ypred)\n",
    "print(\"F1-score on test data: \" + str(nb_f_score))"
   ]
  },
  {
   "cell_type": "code",
   "execution_count": 18,
   "metadata": {},
   "outputs": [
    {
     "data": {
      "image/png": "[encoded data removed]",
      "text/plain": [
       "<matplotlib.figure.Figure at 0x1a268447b8>"
      ]
     },
     "metadata": {},
     "output_type": "display_data"
    }
   ],
   "source": [
    "from sklearn.metrics import roc_curve\n",
    "import matplotlib.pyplot as plt\n",
    "\n",
    "fpr, tpr, thresholds = roc_curve(y_test, nb_ypred, pos_label=1)\n",
    "auc = np.trapz(tpr, fpr)\n",
    "plt.plot(fpr, tpr, label=\"AUC=\" + str(auc))\n",
    "plt.xlabel(\"FPR\")\n",
    "plt.ylabel(\"TPR\")\n",
    "plt.grid()\n",
    "plt.legend()\n",
    "plt.show() "
   ]
  },
  {
   "cell_type": "markdown",
   "metadata": {},
   "source": [
    "## SVM kernels [5 points]\n",
    "\n",
    "Svm can be implemented with many kernels. Use any kernel of your choice. Select the best C using the same methods as you sued to select alpha and K. The range for c is 0.01 to 1000. You may use a step function if you wish.\n",
    "Briefly explain the kernel you chose and which kind of data it works best on. Predict the values on the testing data and create a confusion matrix. Plot the ROC curve for FPR and report the AUC value.  Report the weighted F1 score."
   ]
  },
  {
   "cell_type": "code",
   "execution_count": 19,
   "metadata": {},
   "outputs": [
    {
     "name": "stderr",
     "output_type": "stream",
     "text": [
      "/anaconda3/lib/python3.6/site-packages/sklearn/metrics/classification.py:1137: UndefinedMetricWarning: F-score is ill-defined and being set to 0.0 due to no true samples.\n",
      "  'recall', 'true', average, warn_for)\n"
     ]
    },
    {
     "name": "stdout",
     "output_type": "stream",
     "text": [
      "C = 0.01 : 0.742589118199\n",
      "C = 0.035938136638 : 0.742589118199\n",
      "C = 0.129154966501 : 0.742589118199\n",
      "C = 0.464158883361 : 0.742589118199\n",
      "C = 1.6681005372 : 0.740352125449\n",
      "C = 5.99484250319 : 0.750282911165\n",
      "C = 21.5443469003 : 0.752296269858\n",
      "C = 77.4263682681 : 0.754504687816\n",
      "C = 278.255940221 : 0.753453688069\n",
      "C = 1000.0 : 0.752816615943\n",
      "Best C: 77.4263682681 with score: 0.754504687816\n"
     ]
    }
   ],
   "source": [
    "from sklearn.svm import SVC\n",
    "\n",
    "Cs = np.logspace(-2,3,10)\n",
    "c_scores = []\n",
    "\n",
    "for c in Cs:\n",
    "    c_score = cross_validation(SVC(C=c), X, y,5)#use the default kernel=’rbf’, it is good for non-linear model\n",
    "    print(\"C =\", c, \":\", c_score)\n",
    "    c_scores.append(c_score)\n",
    "best_score_idx = np.argmax(c_scores)\n",
    "best_c = Cs[best_score_idx]\n",
    "print(\"Best C: \" + str(best_c) + \" with score: \" + str(c_scores[best_score_idx]))"
   ]
  },
  {
   "cell_type": "code",
   "execution_count": 20,
   "metadata": {
    "collapsed": true
   },
   "outputs": [],
   "source": [
    "svm_clf = SVC(C=best_c)\n",
    "svm_clf.fit(X, y)\n",
    "svm_ypred = svm_clf.predict(X_test)"
   ]
  },
  {
   "cell_type": "code",
   "execution_count": 21,
   "metadata": {},
   "outputs": [
    {
     "name": "stdout",
     "output_type": "stream",
     "text": [
      "F1-score on test data: 0.716049382716\n"
     ]
    }
   ],
   "source": [
    "svm_f_score = f1_score(y_test, svm_ypred)\n",
    "print(\"F1-score on test data: \" + str(svm_f_score))"
   ]
  },
  {
   "cell_type": "code",
   "execution_count": 22,
   "metadata": {},
   "outputs": [
    {
     "data": {
      "image/png": "[encoded data removed]",
      "text/plain": [
       "<matplotlib.figure.Figure at 0x1a29c3cf98>"
      ]
     },
     "metadata": {},
     "output_type": "display_data"
    }
   ],
   "source": [
    "fpr, tpr, thresholds = roc_curve(y_test, nb_ypred, pos_label=1)\n",
    "auc = np.trapz(tpr, fpr)\n",
    "plt.plot(fpr, tpr, label=\"AUC=\" + str(auc))\n",
    "plt.xlabel(\"FPR\")\n",
    "plt.ylabel(\"TPR\")\n",
    "plt.grid()\n",
    "plt.legend()\n",
    "plt.show() "
   ]
  },
  {
   "cell_type": "markdown",
   "metadata": {},
   "source": [
    "## Compare the F1-values of the above three methods. Comment on the value of F1 Score and explain the differences. [2.5 points]"
   ]
  },
  {
   "cell_type": "markdown",
   "metadata": {
    "collapsed": true
   },
   "source": [
    "#################################################################################################   \n",
    "**The F1-score of the above three methods on training set are all around 0.74/0.75, the higher of f1-score on testing data won't means the higher f1-scores on testing set based on my test. Classifier has a higher F1-score on training data but has a low F1-score on testing data, which may means the training model is over-fitting.**   #################################################################################################"
   ]
  },
  {
   "cell_type": "markdown",
   "metadata": {},
   "source": [
    "## Custom method [5 points]\n",
    "\n",
    "You can now use any classifier of your choice and/or change the feature matrix to imporove the accuracy. In fact, you are allowed to make changes to any of the steps till this point.\n",
    "Predict the values on the testing data and create a confusion matrix. Plot the ROC curve for FPR and report the AUC value. \n",
    "Briefly explain your method (e.g., what features did you choose and why, how you selected the method to use).\n",
    "To get full credit for this part, your f1-score must be at least 0.43.\n",
    "\n",
    "**Important**: Do NOT make any code changes to the above code blocks. If you want to change any of those parts, please rewrite them in the box below (basically when grading we will run the above blocks first, and they should not use the custom code)."
   ]
  },
  {
   "cell_type": "code",
   "execution_count": 23,
   "metadata": {},
   "outputs": [
    {
     "name": "stdout",
     "output_type": "stream",
     "text": [
      "f1-score: 0.750079526836\n"
     ]
    },
    {
     "name": "stderr",
     "output_type": "stream",
     "text": [
      "/anaconda3/lib/python3.6/site-packages/sklearn/metrics/classification.py:1137: UndefinedMetricWarning: F-score is ill-defined and being set to 0.0 due to no true samples.\n",
      "  'recall', 'true', average, warn_for)\n"
     ]
    }
   ],
   "source": [
    "#The custom method I use here is random forest classifier,\n",
    "#it use averaging to improve the predictive accuracy and control over-fitting\n",
    "# To improve the testing speed, I still use the same features as above, \n",
    "#and which will give a comparison of the performance with the above three methods.\n",
    "\n",
    "from sklearn.ensemble import RandomForestClassifier\n",
    "rf_clf = RandomForestClassifier()\n",
    "#dt_clf = DecisionTreeClassifier()\n",
    "f_score = cross_validation(rf_clf, X, y,5)\n",
    "print(\"f1-score:\", f_score)"
   ]
  },
  {
   "cell_type": "code",
   "execution_count": 24,
   "metadata": {},
   "outputs": [
    {
     "name": "stdout",
     "output_type": "stream",
     "text": [
      "F1-score on test data: 0.712328767123\n"
     ]
    }
   ],
   "source": [
    "#predict on the testing data\n",
    "rf_clf.fit(X, y)      \n",
    "rf_ypred = rf_clf.predict(X_test)\n",
    "rf_f_score = f1_score(y_test, rf_ypred)\n",
    "print(\"F1-score on test data: \" + str(rf_f_score))"
   ]
  },
  {
   "cell_type": "code",
   "execution_count": 25,
   "metadata": {},
   "outputs": [
    {
     "data": {
      "text/plain": [
       "array([[13, 17],\n",
       "       [ 4, 26]])"
      ]
     },
     "execution_count": 25,
     "metadata": {},
     "output_type": "execute_result"
    }
   ],
   "source": [
    "#confusion matrix\n",
    "confusion_matrix(y_test, rf_ypred, labels=None, sample_weight=None)"
   ]
  },
  {
   "cell_type": "code",
   "execution_count": 26,
   "metadata": {},
   "outputs": [
    {
     "data": {
      "image/png": "[encoded data removed]",
      "text/plain": [
       "<matplotlib.figure.Figure at 0x1a26957a58>"
      ]
     },
     "metadata": {},
     "output_type": "display_data"
    }
   ],
   "source": [
    "#Plot the ROC curve\n",
    "fpr, tpr, thresholds = roc_curve(y_test, rf_ypred, pos_label=1)\n",
    "auc = np.trapz(tpr, fpr)\n",
    "plt.plot(fpr, tpr, label=\"AUC=\" + str(auc))\n",
    "plt.xlabel(\"FPR\")\n",
    "plt.ylabel(\"TPR\")\n",
    "plt.grid()\n",
    "plt.legend()\n",
    "plt.show() "
   ]
  },
  {
   "cell_type": "markdown",
   "metadata": {},
   "source": [
    "## BONUS [5 points]\n",
    "Read the emails present in evaluation-testing. You must assume that the emails will be present in the same way as they were in the Testing folder.\n",
    "\n",
    "Print your predictions for those emails. The top 3 performers will receive 5 more bonus points.\n",
    "Note - These emails are not given to you right now, they are hidden. "
   ]
  },
  {
   "cell_type": "code",
   "execution_count": 27,
   "metadata": {
    "collapsed": true
   },
   "outputs": [],
   "source": [
    "evaluation_emails = glob.glob('./Hw2-data/evaluation-testing/*.txt')\n",
    "\n",
    "evaluation_ham = []\n",
    "evaluation_spam = []\n",
    "# get the testing wordlists for ham and spam\n",
    "for email in evaluation_emails:\n",
    "    if email.endswith('ham.txt'):\n",
    "        evaluation_ham.append(makeWordList(email))\n",
    "    elif email.endswith('spam.txt'):\n",
    "        evaluation_spam.append(makeWordList(email))\n",
    "    else:\n",
    "        print(\"Unrecognised file name.\")"
   ]
  },
  {
   "cell_type": "code",
   "execution_count": 28,
   "metadata": {
    "collapsed": true
   },
   "outputs": [],
   "source": [
    "evaluation = evaluation_ham + evaluation_spam\n",
    "X_eval = makeFeatureMatrix(evaluation)\n",
    "y_eval = np.concatenate((np.zeros(len(evaluation_ham)),np.ones(len(evaluation_spam))), axis = 0)"
   ]
  },
  {
   "cell_type": "code",
   "execution_count": 29,
   "metadata": {},
   "outputs": [
    {
     "name": "stdout",
     "output_type": "stream",
     "text": [
      "F1-score on test data: 0.666666666667\n"
     ]
    }
   ],
   "source": [
    "dt_eval_clf = RandomForestClassifier()\n",
    "dt_eval_clf.fit(X, y)\n",
    "dt_eval_ypred = dt_eval_clf.predict(X_eval)\n",
    "eval_f_score = f1_score(y_eval, dt_eval_ypred)\n",
    "print(\"F1-score on test data: \" + str(eval_f_score))"
   ]
  },
  {
   "cell_type": "code",
   "execution_count": 30,
   "metadata": {},
   "outputs": [
    {
     "data": {
      "image/png": "[encoded data removed]",
      "text/plain": [
       "<matplotlib.figure.Figure at 0x1a148f1c18>"
      ]
     },
     "metadata": {},
     "output_type": "display_data"
    }
   ],
   "source": [
    "fpr, tpr, thresholds = roc_curve(y_eval, dt_eval_ypred, pos_label=1)\n",
    "auc = np.trapz(tpr, fpr)\n",
    "plt.plot(fpr, tpr, label=\"AUC=\" + str(auc))\n",
    "plt.xlabel(\"FPR\")\n",
    "plt.ylabel(\"TPR\")\n",
    "plt.grid()\n",
    "plt.legend()\n",
    "plt.show() "
   ]
  }
 ],
 "metadata": {
  "kernelspec": {
   "display_name": "Python 3",
   "language": "python",
   "name": "python3"
  },
  "language_info": {
   "codemirror_mode": {
    "name": "ipython",
    "version": 3
   },
   "file_extension": ".py",
   "mimetype": "text/x-python",
   "name": "python",
   "nbconvert_exporter": "python",
   "pygments_lexer": "ipython3",
   "version": "3.6.3"
  }
 },
 "nbformat": 4,
 "nbformat_minor": 2
}
