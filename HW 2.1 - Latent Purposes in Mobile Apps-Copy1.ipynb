{
 "cells": [
  {
   "cell_type": "markdown",
   "metadata": {},
   "source": [
    "# HW 2.1 Latent \"Purposes\" in Mobile Apps [50 + 10 points]\n",
    "\n",
    "   * Dataset and updates: https://gist.github.com/emaadmanzoor/aedddf2b69e54a9a2fd320230bbb692a\n",
    "   * Contact TA: Emaad Ahmed Manzoor (emaad[at]cmu.edu)\n",
    "\n",
    "*Please only attempt bonus point problems after completing the non-bonus questions.*\n",
    "\n",
    "We hypothesize the existence of latent \"purposes\" manifested by mobile phone applications; a \"purpose\" may be a specific task (such as taking photographs and uploading them to the internet), and an application may have a mixture of purposes of varying strength.\n",
    "\n",
    "Can we uncover these purposes from a dataset of Android applications?"
   ]
  },
  {
   "cell_type": "code",
   "execution_count": 2,
   "metadata": {
    "collapsed": true
   },
   "outputs": [],
   "source": [
    "import numpy as np\n",
    "import matplotlib.pyplot as plt\n",
    "import pandas as pd\n",
    "%matplotlib inline"
   ]
  },
  {
   "cell_type": "markdown",
   "metadata": {},
   "source": [
    "## Load the data [0 points]"
   ]
  },
  {
   "cell_type": "markdown",
   "metadata": {},
   "source": [
    "The [dataset](http://www.mariofrank.net/andrApps/) contains ~180,000 applications from the Android app store, including each app's name, description and permissions requested. For more about Android app permissions, see [this report](http://www.pewinternet.org/2015/11/10/an-analysis-of-android-app-permissions/)).\n",
    "\n",
    "   * Download the data and unzip it into the same folder as this notebook.\n",
    "   * Rename the CSV file to \"android.csv\".\n",
    "   * Run the cells below to load the data into the notebook.\n",
    "   * Play with the data to understand what each column may mean."
   ]
  },
  {
   "cell_type": "code",
   "execution_count": 3,
   "metadata": {
    "collapsed": true
   },
   "outputs": [],
   "source": [
    "df = pd.read_csv(\"android.csv\", sep=\",\",  thousands=\",\")"
   ]
  },
  {
   "cell_type": "code",
   "execution_count": 4,
   "metadata": {
    "collapsed": true
   },
   "outputs": [],
   "source": [
    "df[\"Number of ratings\"] = df[\"Number of ratings\"].astype(int) # fix data type\n",
    "df = df.drop_duplicates(subset=[\"App\"]).reset_index(drop=True)"
   ]
  },
  {
   "cell_type": "code",
   "execution_count": 5,
   "metadata": {},
   "outputs": [
    {
     "data": {
      "text/html": [
       "<div>\n",
       "<style>\n",
       "    .dataframe thead tr:only-child th {\n",
       "        text-align: right;\n",
       "    }\n",
       "\n",
       "    .dataframe thead th {\n",
       "        text-align: left;\n",
       "    }\n",
       "\n",
       "    .dataframe tbody tr th {\n",
       "        vertical-align: top;\n",
       "    }\n",
       "</style>\n",
       "<table border=\"1\" class=\"dataframe\">\n",
       "  <thead>\n",
       "    <tr style=\"text-align: right;\">\n",
       "      <th></th>\n",
       "      <th>App</th>\n",
       "      <th>Package</th>\n",
       "      <th>Category</th>\n",
       "      <th>Description</th>\n",
       "      <th>Rating</th>\n",
       "      <th>Number of ratings</th>\n",
       "      <th>Price</th>\n",
       "      <th>Related apps</th>\n",
       "      <th>Dangerous permissions count</th>\n",
       "      <th>Safe permissions count</th>\n",
       "      <th>...</th>\n",
       "      <th>Your personal information : read Browser's history and bookmarks (D)</th>\n",
       "      <th>Your personal information : read calendar events (D)</th>\n",
       "      <th>Your personal information : read contact data (D)</th>\n",
       "      <th>Your personal information : read sensitive log data (D)</th>\n",
       "      <th>Your personal information : read user defined dictionary (D)</th>\n",
       "      <th>Your personal information : retrieve system internal state (S)</th>\n",
       "      <th>Your personal information : set alarm in alarm clock (S)</th>\n",
       "      <th>Your personal information : write Browser's history and bookmarks (D)</th>\n",
       "      <th>Your personal information : write contact data (D)</th>\n",
       "      <th>Your personal information : write to user defined dictionary (S)</th>\n",
       "    </tr>\n",
       "  </thead>\n",
       "  <tbody>\n",
       "    <tr>\n",
       "      <th>0</th>\n",
       "      <td>Google Maps</td>\n",
       "      <td>com.google.android.apps.maps</td>\n",
       "      <td>Travel &amp; Local</td>\n",
       "      <td>Download the latest release of Google Maps, an...</td>\n",
       "      <td>4.4</td>\n",
       "      <td>1438259</td>\n",
       "      <td>$0.00</td>\n",
       "      <td>{com.jsdfproductions.ctatrackerpro, com.alk.co...</td>\n",
       "      <td>17.0</td>\n",
       "      <td>8</td>\n",
       "      <td>...</td>\n",
       "      <td>0</td>\n",
       "      <td>0</td>\n",
       "      <td>1</td>\n",
       "      <td>0</td>\n",
       "      <td>0</td>\n",
       "      <td>0</td>\n",
       "      <td>0</td>\n",
       "      <td>0</td>\n",
       "      <td>1</td>\n",
       "      <td>0</td>\n",
       "    </tr>\n",
       "    <tr>\n",
       "      <th>1</th>\n",
       "      <td>Snowfall Live Wallpaper</td>\n",
       "      <td>fishnoodle.snowfall_free</td>\n",
       "      <td>Personalization</td>\n",
       "      <td>Snowfall Live Wallpaper: Wintertime on your ho...</td>\n",
       "      <td>4.3</td>\n",
       "      <td>18147</td>\n",
       "      <td>$0.00</td>\n",
       "      <td>{colfore.wallpaper.snowfree, com.tabsoft.wallp...</td>\n",
       "      <td>0.0</td>\n",
       "      <td>0</td>\n",
       "      <td>...</td>\n",
       "      <td>0</td>\n",
       "      <td>0</td>\n",
       "      <td>0</td>\n",
       "      <td>0</td>\n",
       "      <td>0</td>\n",
       "      <td>0</td>\n",
       "      <td>0</td>\n",
       "      <td>0</td>\n",
       "      <td>0</td>\n",
       "      <td>0</td>\n",
       "    </tr>\n",
       "    <tr>\n",
       "      <th>2</th>\n",
       "      <td>Aquarium Live Wallpaper</td>\n",
       "      <td>fishnoodle.aquarium_free</td>\n",
       "      <td>Personalization</td>\n",
       "      <td>A beautiful tropical fish tank live wallpaper!...</td>\n",
       "      <td>4.1</td>\n",
       "      <td>62145</td>\n",
       "      <td>$0.00</td>\n",
       "      <td>{com.convisual.lwp.fishometerlite, com.accessl...</td>\n",
       "      <td>0.0</td>\n",
       "      <td>0</td>\n",
       "      <td>...</td>\n",
       "      <td>0</td>\n",
       "      <td>0</td>\n",
       "      <td>0</td>\n",
       "      <td>0</td>\n",
       "      <td>0</td>\n",
       "      <td>0</td>\n",
       "      <td>0</td>\n",
       "      <td>0</td>\n",
       "      <td>0</td>\n",
       "      <td>0</td>\n",
       "    </tr>\n",
       "  </tbody>\n",
       "</table>\n",
       "<p>3 rows × 183 columns</p>\n",
       "</div>"
      ],
      "text/plain": [
       "                       App                       Package         Category  \\\n",
       "0              Google Maps  com.google.android.apps.maps   Travel & Local   \n",
       "1  Snowfall Live Wallpaper      fishnoodle.snowfall_free  Personalization   \n",
       "2  Aquarium Live Wallpaper      fishnoodle.aquarium_free  Personalization   \n",
       "\n",
       "                                         Description  Rating  \\\n",
       "0  Download the latest release of Google Maps, an...     4.4   \n",
       "1  Snowfall Live Wallpaper: Wintertime on your ho...     4.3   \n",
       "2  A beautiful tropical fish tank live wallpaper!...     4.1   \n",
       "\n",
       "   Number of ratings  Price  \\\n",
       "0            1438259  $0.00   \n",
       "1              18147  $0.00   \n",
       "2              62145  $0.00   \n",
       "\n",
       "                                        Related apps  \\\n",
       "0  {com.jsdfproductions.ctatrackerpro, com.alk.co...   \n",
       "1  {colfore.wallpaper.snowfree, com.tabsoft.wallp...   \n",
       "2  {com.convisual.lwp.fishometerlite, com.accessl...   \n",
       "\n",
       "   Dangerous permissions count  Safe permissions count  \\\n",
       "0                         17.0                       8   \n",
       "1                          0.0                       0   \n",
       "2                          0.0                       0   \n",
       "\n",
       "                                 ...                                 \\\n",
       "0                                ...                                  \n",
       "1                                ...                                  \n",
       "2                                ...                                  \n",
       "\n",
       "   Your personal information : read Browser's history and bookmarks (D)  \\\n",
       "0                                                  0                      \n",
       "1                                                  0                      \n",
       "2                                                  0                      \n",
       "\n",
       "   Your personal information : read calendar events (D)  \\\n",
       "0                                                  0      \n",
       "1                                                  0      \n",
       "2                                                  0      \n",
       "\n",
       "   Your personal information : read contact data (D)  \\\n",
       "0                                                  1   \n",
       "1                                                  0   \n",
       "2                                                  0   \n",
       "\n",
       "   Your personal information : read sensitive log data (D)  \\\n",
       "0                                                  0         \n",
       "1                                                  0         \n",
       "2                                                  0         \n",
       "\n",
       "   Your personal information : read user defined dictionary (D)  \\\n",
       "0                                                  0              \n",
       "1                                                  0              \n",
       "2                                                  0              \n",
       "\n",
       "   Your personal information : retrieve system internal state (S)  \\\n",
       "0                                                  0                \n",
       "1                                                  0                \n",
       "2                                                  0                \n",
       "\n",
       "   Your personal information : set alarm in alarm clock (S)  \\\n",
       "0                                                  0          \n",
       "1                                                  0          \n",
       "2                                                  0          \n",
       "\n",
       "   Your personal information : write Browser's history and bookmarks (D)  \\\n",
       "0                                                  0                       \n",
       "1                                                  0                       \n",
       "2                                                  0                       \n",
       "\n",
       "   Your personal information : write contact data (D)  \\\n",
       "0                                                  1    \n",
       "1                                                  0    \n",
       "2                                                  0    \n",
       "\n",
       "   Your personal information : write to user defined dictionary (S)  \n",
       "0                                                  0                 \n",
       "1                                                  0                 \n",
       "2                                                  0                 \n",
       "\n",
       "[3 rows x 183 columns]"
      ]
     },
     "execution_count": 5,
     "metadata": {},
     "output_type": "execute_result"
    }
   ],
   "source": [
    "df.head(n=3)"
   ]
  },
  {
   "cell_type": "markdown",
   "metadata": {},
   "source": [
    "Note that the permissions are tagged with a category that describes them (for example, \"system tools\"). This will help us interpret them later"
   ]
  },
  {
   "cell_type": "markdown",
   "metadata": {},
   "source": [
    "## Apps as documents\n",
    "\n",
    "One approach to model apps as documents is to use their \"description\" field directly.\n",
    "\n",
    "A less conventional approach is to exploit the fact that the permissions an app requests as direct evidence about what it's really trying to do. Think of app purposes as \"topics\", and each app as a \"document\" where its requested permissions are \"words\"."
   ]
  },
  {
   "cell_type": "markdown",
   "metadata": {},
   "source": [
    "### Convert each app into a \"document\" [2.5 points]\n",
    "\n",
    "   * Create a new dataframe by filtering out all the columns except the permission columns.\n",
    "   * Convert this dataframe into a numpy matrix (see `as_matrix()` in Pandas).\n",
    "   * You should have a (180295, 173) shape numpy matrix X containing only 0s and 1s.\n",
    "   \n",
    "X is now your \"document\" or \"word-frequency\" matrix."
   ]
  },
  {
   "cell_type": "code",
   "execution_count": 7,
   "metadata": {},
   "outputs": [
    {
     "data": {
      "text/plain": [
       "(180295, 173)"
      ]
     },
     "execution_count": 7,
     "metadata": {},
     "output_type": "execute_result"
    }
   ],
   "source": [
    "df_filter_permissions = df.drop(df.columns[[0,1,2,3,4,5,6,7,8,9]], axis =1)\n",
    "#df_filter_permissions.head(n=3)\n",
    "X = df_filter_permissions.as_matrix()\n",
    "X.shape"
   ]
  },
  {
   "cell_type": "markdown",
   "metadata": {},
   "source": [
    "### Downweight \"stop-words\" [2.5 points]\n",
    "\n",
    "There are some permissions requested by almost all applications (like \"INTERNET\"), they are similar to stop-words (\"the\", \"and\", etc.) in natural language. We can downweight them by TF-IDF normalization.\n",
    "\n",
    "   * Use the `TfidfTransformer` class in `scikit-learn` to transform X."
   ]
  },
  {
   "cell_type": "code",
   "execution_count": 12,
   "metadata": {
    "collapsed": true
   },
   "outputs": [],
   "source": [
    "from sklearn.feature_extraction.text import TfidfTransformer\n",
    "# document frequency (df) means number of documents a word appears in\n",
    "tf_idf_transformer = TfidfTransformer(norm='l2', use_idf=True, smooth_idf=True, sublinear_tf=False)\n",
    "tf_idf = tf_idf_transformer.fit_transform(X)\n",
    "#tf_idf[0].toarray()"
   ]
  },
  {
   "cell_type": "markdown",
   "metadata": {},
   "source": [
    "### Discover \"topics\" [2.5 points]\n",
    "\n",
    "   * Use the `LatentDirichletAllocation` class in `scikit-learn` to fit 10 topics to the data.\n",
    "   * Use 10 max iterations, set `n_jobs=-1` to use all cores on your machine.\n",
    "   * This may take around 3 minutes to run. Test on a sample first."
   ]
  },
  {
   "cell_type": "code",
   "execution_count": 13,
   "metadata": {},
   "outputs": [
    {
     "name": "stdout",
     "output_type": "stream",
     "text": [
      "CPU times: user 24.1 s, sys: 1.17 s, total: 25.3 s\n",
      "Wall time: 2min 55s\n"
     ]
    }
   ],
   "source": [
    "%%time\n",
    "from sklearn.decomposition import LatentDirichletAllocation\n",
    "num_topics = 10\n",
    "lda = LatentDirichletAllocation(n_components=num_topics, max_iter=10, n_jobs=-1,learning_method='online', random_state=95865)\n",
    "lda.fit(tf_idf)\n",
    "#lda.components_.shape"
   ]
  },
  {
   "cell_type": "markdown",
   "metadata": {},
   "source": [
    "Now each app can be viewed as a distribution over these 20 topics, and each topic is a distribution over all the permissions in the data."
   ]
  },
  {
   "cell_type": "markdown",
   "metadata": {},
   "source": [
    "### List the top 10 \"words\" in each topic [10 points]\n",
    "\n",
    "Do any of the topics correspond to meaningful app \"purposes\"? List the ones you find meaningful below:\n",
    "\n",
    "   * Topic #i: \"your interpretation\""
   ]
  },
  {
   "cell_type": "code",
   "execution_count": 14,
   "metadata": {},
   "outputs": [
    {
     "name": "stdout",
     "output_type": "stream",
     "text": [
      "Displaying the top 10 words per topic and their probabilities within the topic...\n",
      "\n",
      "[Topic 0]\n",
      "Hardware controls : control vibrator (S): 0.238213\n",
      "System tools : set wallpaper (S): 0.220815\n",
      "Network communication : full Internet access (D): 0.142469\n",
      "Network communication : view network state (S): 0.111176\n",
      "System tools : retrieve running applications (D): 0.105884\n",
      "Storage : modify/delete USB storage contents modify/delete SD card contents (D): 0.084374\n",
      "Phone calls : read phone state and identity (D): 0.074856\n",
      "System tools : set wallpaper size hints (S): 0.021568\n",
      "Default : act as an account authenticator (S): 0.000004\n",
      "Default : bind to a wallpaper (S): 0.000004\n",
      "\n",
      "[Topic 1]\n",
      "Network communication : full Internet access (D): 0.701083\n",
      "Network communication : view network state (S): 0.298455\n",
      "Services that cost you money : directly call phone numbers (D): 0.000003\n",
      "System tools : change your UI settings (D): 0.000003\n",
      "System tools : modify global animation speed (D): 0.000003\n",
      "System tools : make application always run (D): 0.000003\n",
      "System tools : kill background processes (S): 0.000003\n",
      "System tools : prevent device from sleeping (D): 0.000003\n",
      "Default : Advanced download manager functions. (S): 0.000003\n",
      "System tools : write Access Point Name settings (D): 0.000003\n",
      "\n",
      "[Topic 2]\n",
      "Network communication : receive data from Internet (S): 0.093127\n",
      "System tools : prevent device from sleeping (D): 0.070257\n",
      "Network communication : view network state (S): 0.067173\n",
      "Network communication : full Internet access (D): 0.055583\n",
      "Phone calls : read phone state and identity (D): 0.055325\n",
      "System tools : automatically start at boot (S): 0.053882\n",
      "Hardware controls : control vibrator (S): 0.053574\n",
      "Your location : fine (GPS) location (D): 0.051824\n",
      "Storage : modify/delete USB storage contents modify/delete SD card contents (D): 0.050306\n",
      "Network communication : view Wi-Fi state (S): 0.044749\n",
      "\n",
      "[Topic 3]\n",
      "Services that cost you money : directly call phone numbers (D): 0.117785\n",
      "Your personal information : read contact data (D): 0.094392\n",
      "Your location : fine (GPS) location (D): 0.082089\n",
      "Your location : coarse (network-based) location (D): 0.064671\n",
      "Network communication : full Internet access (D): 0.064528\n",
      "Hardware controls : record audio (D): 0.058161\n",
      "Services that cost you money : send SMS messages (D): 0.057390\n",
      "Phone calls : read phone state and identity (D): 0.052095\n",
      "Your messages : receive SMS (D): 0.042858\n",
      "Network communication : view network state (S): 0.042241\n",
      "\n",
      "[Topic 4]\n",
      "Phone calls : read phone state and identity (D): 0.271262\n",
      "Network communication : view Wi-Fi state (S): 0.233888\n",
      "Network communication : view network state (S): 0.176562\n",
      "Network communication : full Internet access (D): 0.169842\n",
      "Storage : modify/delete USB storage contents modify/delete SD card contents (D): 0.131006\n",
      "System tools : display system-level alerts (D): 0.013425\n",
      "Default : press keys and control buttons (S): 0.002474\n",
      "Default : modify the Google services map (S): 0.000302\n",
      "Default : Send download notifications. (S): 0.000286\n",
      "Default : force application to close (S): 0.000262\n",
      "\n",
      "[Topic 5]\n",
      "System tools : modify global system settings (D): 0.440219\n",
      "System tools : mount and unmount filesystems (D): 0.311165\n",
      "Storage : modify/delete USB storage contents modify/delete SD card contents (D): 0.117004\n",
      "Network communication : full Internet access (D): 0.068452\n",
      "Network communication : view network state (S): 0.047108\n",
      "Development tools : enable application debugging (D): 0.004593\n",
      "Development tools : make all background applications close (D): 0.001200\n",
      "Default : prevent app switches (S): 0.000930\n",
      "Default : full Internet access (S): 0.000881\n",
      "Default : coarse (network-based) location (S): 0.000861\n",
      "\n",
      "[Topic 6]\n",
      "Storage : modify/delete USB storage contents modify/delete SD card contents (D): 0.609683\n",
      "Network communication : full Internet access (D): 0.231699\n",
      "Network communication : view network state (S): 0.147872\n",
      "Default : delete other applications' caches (S): 0.008611\n",
      "System tools : send package removed broadcast (S): 0.000965\n",
      "System tools : prevent device from sleeping (D): 0.000007\n",
      "Default : delete other applications' data (S): 0.000007\n",
      "System tools : change your UI settings (D): 0.000007\n",
      "Default : Access download manager. (S): 0.000007\n",
      "Hardware controls : record audio (D): 0.000007\n",
      "\n",
      "[Topic 7]\n",
      "Hardware controls : take pictures and videos (D): 0.161207\n",
      "System tools : automatically start at boot (S): 0.147311\n",
      "Hardware controls : control vibrator (S): 0.084473\n",
      "Storage : modify/delete USB storage contents modify/delete SD card contents (D): 0.083762\n",
      "Network communication : full Internet access (D): 0.079316\n",
      "Network communication : view network state (S): 0.076764\n",
      "Phone calls : read phone state and identity (D): 0.072895\n",
      "Your location : coarse (network-based) location (D): 0.066319\n",
      "Your location : fine (GPS) location (D): 0.059496\n",
      "System tools : prevent device from sleeping (D): 0.044320\n",
      "\n",
      "[Topic 8]\n",
      "System tools : prevent device from sleeping (D): 0.194403\n",
      "Your location : coarse (network-based) location (D): 0.186874\n",
      "Your location : fine (GPS) location (D): 0.170119\n",
      "Network communication : full Internet access (D): 0.157043\n",
      "Network communication : view network state (S): 0.106418\n",
      "Phone calls : read phone state and identity (D): 0.085544\n",
      "Storage : modify/delete USB storage contents modify/delete SD card contents (D): 0.055129\n",
      "Hardware controls : control vibrator (S): 0.042064\n",
      "Default : bind to a wallpaper (S): 0.001981\n",
      "Default : modify/delete USB storage contents modify/delete SD card contents (S): 0.000003\n",
      "\n",
      "[Topic 9]\n",
      "Your accounts : discover known accounts (S): 0.172956\n",
      "System tools : kill background processes (S): 0.089468\n",
      "Phone calls : intercept outgoing calls (D): 0.066380\n",
      "Your personal information : read sensitive log data (D): 0.065360\n",
      "System tools : prevent device from sleeping (D): 0.056850\n",
      "System tools : change your UI settings (D): 0.053663\n",
      "Your accounts : access other Google services (D): 0.053283\n",
      "System tools : automatically start at boot (S): 0.046739\n",
      "Default : directly install applications (S): 0.044773\n",
      "System tools : retrieve running applications (D): 0.040741\n",
      "\n"
     ]
    }
   ],
   "source": [
    "topic_word_distributions = np.array([topic_word_pseudocounts / np.sum(topic_word_pseudocounts)\n",
    "                                     for topic_word_pseudocounts in lda.components_])\n",
    "num_top_words = 10\n",
    "\n",
    "print('Displaying the top %d words per topic and their probabilities within the topic...' % num_top_words)\n",
    "print()\n",
    "for topic_idx in range(num_topics):\n",
    "    print('[Topic %d]' % topic_idx)\n",
    "    sort_indices = np.argsort(topic_word_distributions[topic_idx])[::-1]\n",
    "    for rank in range(num_top_words):\n",
    "        word_idx = sort_indices[rank]\n",
    "        print('%s: %f' % (df_filter_permissions.columns[word_idx], topic_word_distributions[topic_idx, word_idx]))\n",
    "    print()"
   ]
  },
  {
   "cell_type": "markdown",
   "metadata": {},
   "source": [
    "**Topic 9: as can seen from the top words, it seems like systems tools, such as google app store**"
   ]
  },
  {
   "cell_type": "markdown",
   "metadata": {},
   "source": [
    "### For each topic, list the top 3 apps with the highest probability assigned to that topic [10 points]\n",
    "\n",
    "This further helps us understand what the topics actually mean. Go back and revise your list of topic interpretations after this: what kind of apps is each topic most likely to contain?\n",
    "\n",
    "   * Transform the TF-IDF matrix into a matrix of topic proportions for each app; each row corresponds to one app. Consider the `transform` function of the LDA model you just fit. Now your data has been reduced to a dimensionality of just 10.\n",
    "\n",
    "\n",
    "   * For each column i in 0...9:\n",
    "      - Sort the rows in the topic proportion matrix by column i (topic i). Consider using `np.argsort` to obtain the sorted indices. The indices correspond to the position each row should be moved to, to obtain the rows sorted in increasing order by column i.\n",
    "      - Create a new \"temp\" column in the original dataframe with these indices.\n",
    "      - Sort the original dataframe in descending order by these indices.\n",
    "      - Print the names of the top 3 apps in the sorted dataframe.\n",
    "      - Only print app names having more than 1000 ratings (do something like `df[df['Number of ratings']>1000]`)."
   ]
  },
  {
   "cell_type": "code",
   "execution_count": 15,
   "metadata": {
    "collapsed": true
   },
   "outputs": [],
   "source": [
    "lda_app = lda.transform(tf_idf)"
   ]
  },
  {
   "cell_type": "code",
   "execution_count": 10,
   "metadata": {},
   "outputs": [
    {
     "name": "stdout",
     "output_type": "stream",
     "text": [
      "[Topic 0]\n",
      "6088                Mileage\n",
      "1159       MagicLocker Main\n",
      "1152    Sex Offender Search\n",
      "Name: App, dtype: object\n",
      "[Topic 1]\n",
      "12242           VKontakte\n",
      "9310              MusicFX\n",
      "11090    1Password Reader\n",
      "Name: App, dtype: object\n",
      "[Topic 2]\n",
      "1737             Meganoid\n",
      "9615     World Newspapers\n",
      "9614    Earthquake Alert!\n",
      "Name: App, dtype: object\n",
      "[Topic 3]\n",
      "9376     2Player Network Music Player\n",
      "15922                  Snap Photo Pro\n",
      "1464                      Doodle Dash\n",
      "Name: App, dtype: object\n",
      "[Topic 4]\n",
      "5743         Free Wallpaper2\n",
      "7952                 My Mood\n",
      "29127    (D-Day)TheDayBefore\n",
      "Name: App, dtype: object\n",
      "[Topic 5]\n",
      "96927          jjanglive\n",
      "13753     Battery widget\n",
      "8438     Photo Safe (PS)\n",
      "Name: App, dtype: object\n",
      "[Topic 6]\n",
      "6027    Discover Mobile\n",
      "6096    The Motley Fool\n",
      "9280     Voodoo Control\n",
      "Name: App, dtype: object\n",
      "[Topic 7]\n",
      "128687        AsciiCamera\n",
      "4993      Tour Translator\n",
      "15729            TuneSync\n",
      "Name: App, dtype: object\n",
      "[Topic 8]\n",
      "18756            Fieldrunners HD\n",
      "18764    Abduction! World Attack\n",
      "18742              The Sims??? 3\n",
      "Name: App, dtype: object\n",
      "[Topic 9]\n",
      "13465         Spanish RAE dictionary\n",
      "29137    T-Mobile Contacts Backup G1\n",
      "11964             Shopping List Plus\n",
      "Name: App, dtype: object\n"
     ]
    }
   ],
   "source": [
    "for i in range(num_topics):\n",
    "    print('[Topic %d]' % i)\n",
    "    app_sort_indices = np.argsort(lda_app.T[i])\n",
    "    df[\"sorted_idx_topic%d\" % i] = app_sort_indices\n",
    "    df_top_ratings = df[df['Number of ratings']>1000]\n",
    "    df_top_ratings_sorted = df_top_ratings.sort_values(by= ['sorted_idx_topic%d' % i], ascending=False) \n",
    "    #display(df_top_ratings_sorted.head(3))\n",
    "    print(df_top_ratings_sorted['App'].head(3))"
   ]
  },
  {
   "cell_type": "markdown",
   "metadata": {},
   "source": [
    "### Find the most probable topic for the top 10 apps with the most ratings [10 points]\n",
    "\n",
    "   * Use the `sort_values` and `head` functions in Pandas to find the apps with the most number of ratings.\n",
    "   * Extract the indices of these apps from the dataframe, we will need these later to retrieve their permissions from the topic proportions matrix you constructed earlier.\n",
    "   * For each of these 10 apps, print the permissions in their most probable topic by indexing into the topic proportion matrix."
   ]
  },
  {
   "cell_type": "code",
   "execution_count": 11,
   "metadata": {
    "collapsed": true
   },
   "outputs": [],
   "source": [
    "df_sorted = df.sort_values(by=['Number of ratings'],ascending=False)\n",
    "top10_apps = df_sorted.head(10)\n",
    "app_indices = top10_apps.index"
   ]
  },
  {
   "cell_type": "code",
   "execution_count": 12,
   "metadata": {},
   "outputs": [
    {
     "name": "stdout",
     "output_type": "stream",
     "text": [
      "Facebook for Android\n",
      "[Topic 3]\n",
      "Services that cost you money : directly call phone numbers (D)\n",
      "Your personal information : read contact data (D)\n",
      "Your location : fine (GPS) location (D)\n",
      "Your location : coarse (network-based) location (D)\n",
      "Network communication : full Internet access (D)\n",
      "Hardware controls : record audio (D)\n",
      "Services that cost you money : send SMS messages (D)\n",
      "Phone calls : read phone state and identity (D)\n",
      "Your messages : receive SMS (D)\n",
      "Network communication : view network state (S)\n",
      "\n",
      "Google Maps\n",
      "[Topic 2]\n",
      "Network communication : receive data from Internet (S)\n",
      "System tools : prevent device from sleeping (D)\n",
      "Network communication : view network state (S)\n",
      "Network communication : full Internet access (D)\n",
      "Phone calls : read phone state and identity (D)\n",
      "System tools : automatically start at boot (S)\n",
      "Hardware controls : control vibrator (S)\n",
      "Your location : fine (GPS) location (D)\n",
      "Storage : modify/delete USB storage contents modify/delete SD card contents (D)\n",
      "Network communication : view Wi-Fi state (S)\n",
      "\n",
      "Angry Birds\n",
      "[Topic 4]\n",
      "Phone calls : read phone state and identity (D)\n",
      "Network communication : view Wi-Fi state (S)\n",
      "Network communication : view network state (S)\n",
      "Network communication : full Internet access (D)\n",
      "Storage : modify/delete USB storage contents modify/delete SD card contents (D)\n",
      "System tools : display system-level alerts (D)\n",
      "Default : press keys and control buttons (S)\n",
      "Default : modify the Google services map (S)\n",
      "Default : Send download notifications. (S)\n",
      "Default : force application to close (S)\n",
      "\n",
      "MP3 Music Download Pro\n",
      "[Topic 9]\n",
      "Your accounts : discover known accounts (S)\n",
      "System tools : kill background processes (S)\n",
      "Phone calls : intercept outgoing calls (D)\n",
      "Your personal information : read sensitive log data (D)\n",
      "System tools : prevent device from sleeping (D)\n",
      "System tools : change your UI settings (D)\n",
      "Your accounts : access other Google services (D)\n",
      "System tools : automatically start at boot (S)\n",
      "Default : directly install applications (S)\n",
      "System tools : retrieve running applications (D)\n",
      "\n",
      "KakaoTalk Mes​sen​ger\n",
      "[Topic 3]\n",
      "Services that cost you money : directly call phone numbers (D)\n",
      "Your personal information : read contact data (D)\n",
      "Your location : fine (GPS) location (D)\n",
      "Your location : coarse (network-based) location (D)\n",
      "Network communication : full Internet access (D)\n",
      "Hardware controls : record audio (D)\n",
      "Services that cost you money : send SMS messages (D)\n",
      "Phone calls : read phone state and identity (D)\n",
      "Your messages : receive SMS (D)\n",
      "Network communication : view network state (S)\n",
      "\n",
      "KakaoTalk Mes???sen???ger\n",
      "[Topic 3]\n",
      "Services that cost you money : directly call phone numbers (D)\n",
      "Your personal information : read contact data (D)\n",
      "Your location : fine (GPS) location (D)\n",
      "Your location : coarse (network-based) location (D)\n",
      "Network communication : full Internet access (D)\n",
      "Hardware controls : record audio (D)\n",
      "Services that cost you money : send SMS messages (D)\n",
      "Phone calls : read phone state and identity (D)\n",
      "Your messages : receive SMS (D)\n",
      "Network communication : view network state (S)\n",
      "\n",
      "Pandora® internet radio\n",
      "[Topic 2]\n",
      "Network communication : receive data from Internet (S)\n",
      "System tools : prevent device from sleeping (D)\n",
      "Network communication : view network state (S)\n",
      "Network communication : full Internet access (D)\n",
      "Phone calls : read phone state and identity (D)\n",
      "System tools : automatically start at boot (S)\n",
      "Hardware controls : control vibrator (S)\n",
      "Your location : fine (GPS) location (D)\n",
      "Storage : modify/delete USB storage contents modify/delete SD card contents (D)\n",
      "Network communication : view Wi-Fi state (S)\n",
      "\n",
      "Pandora?? internet radio\n",
      "[Topic 2]\n",
      "Network communication : receive data from Internet (S)\n",
      "System tools : prevent device from sleeping (D)\n",
      "Network communication : view network state (S)\n",
      "Network communication : full Internet access (D)\n",
      "Phone calls : read phone state and identity (D)\n",
      "System tools : automatically start at boot (S)\n",
      "Hardware controls : control vibrator (S)\n",
      "Your location : fine (GPS) location (D)\n",
      "Storage : modify/delete USB storage contents modify/delete SD card contents (D)\n",
      "Network communication : view Wi-Fi state (S)\n",
      "\n",
      "Tiny Flashlight + LED\n",
      "[Topic 7]\n",
      "Hardware controls : take pictures and videos (D)\n",
      "System tools : automatically start at boot (S)\n",
      "Hardware controls : control vibrator (S)\n",
      "Storage : modify/delete USB storage contents modify/delete SD card contents (D)\n",
      "Network communication : full Internet access (D)\n",
      "Network communication : view network state (S)\n",
      "Phone calls : read phone state and identity (D)\n",
      "Your location : coarse (network-based) location (D)\n",
      "Your location : fine (GPS) location (D)\n",
      "System tools : prevent device from sleeping (D)\n",
      "\n",
      "Bubble Blast 2\n",
      "[Topic 0]\n",
      "Hardware controls : control vibrator (S)\n",
      "System tools : set wallpaper (S)\n",
      "Network communication : full Internet access (D)\n",
      "Network communication : view network state (S)\n",
      "System tools : retrieve running applications (D)\n",
      "Storage : modify/delete USB storage contents modify/delete SD card contents (D)\n",
      "Phone calls : read phone state and identity (D)\n",
      "System tools : set wallpaper size hints (S)\n",
      "Default : act as an account authenticator (S)\n",
      "Default : bind to a wallpaper (S)\n",
      "\n"
     ]
    }
   ],
   "source": [
    "num_top_words = 10\n",
    "for app_idx in app_indices:\n",
    "    print(top10_apps['App'][app_idx]) \n",
    "    topic_sort_indices = np.argsort(lda_app[app_idx])[::-1]\n",
    "    topic_idx = topic_sort_indices[0]\n",
    "    print('[Topic %d]' % topic_idx)\n",
    "    sort_indices = np.argsort(topic_word_distributions[topic_idx])[::-1]\n",
    "    for rank in range(num_top_words):\n",
    "        word_idx = sort_indices[rank]\n",
    "        print('%s' % df_filter_permissions.columns[word_idx])\n",
    "    print()"
   ]
  },
  {
   "cell_type": "markdown",
   "metadata": {},
   "source": [
    "## Visualization"
   ]
  },
  {
   "cell_type": "markdown",
   "metadata": {},
   "source": [
    "### [Bonus] Visualize the topics using pyLDAVis. [2.5 points]"
   ]
  },
  {
   "cell_type": "markdown",
   "metadata": {},
   "source": [
    "See https://github.com/bmabey/pyLDAvis."
   ]
  },
  {
   "cell_type": "code",
   "execution_count": 16,
   "metadata": {},
   "outputs": [
    {
     "name": "stdout",
     "output_type": "stream",
     "text": [
      "Topic-Term shape: (10, 173)\n",
      "Doc-Topic shape: (180295, 10)\n"
     ]
    }
   ],
   "source": [
    "topic_model_data = {'topic_term_dists': topic_word_distributions, \n",
    "            'doc_topic_dists': lda_app,\n",
    "            'doc_lengths': lda_app.T[0],\n",
    "            'vocab': df_filter_permissions.columns.values,\n",
    "            'term_frequency': X.T.sum(axis=1)}\n",
    "print('Topic-Term shape: %s' % str(np.array(topic_model_data['topic_term_dists']).shape))\n",
    "print('Doc-Topic shape: %s' % str(np.array(topic_model_data['doc_topic_dists']).shape))"
   ]
  },
  {
   "cell_type": "code",
   "execution_count": 17,
   "metadata": {},
   "outputs": [
    {
     "name": "stderr",
     "output_type": "stream",
     "text": [
      "/anaconda3/lib/python3.6/site-packages/pyLDAvis/_prepare.py:387: DeprecationWarning: \n",
      ".ix is deprecated. Please use\n",
      ".loc for label based indexing or\n",
      ".iloc for positional indexing\n",
      "\n",
      "See the documentation here:\n",
      "http://pandas.pydata.org/pandas-docs/stable/indexing.html#ix-indexer-is-deprecated\n",
      "  topic_term_dists = topic_term_dists.ix[topic_order]\n"
     ]
    },
    {
     "data": {
      "text/html": [
       "\n",
       "<link rel=\"stylesheet\" type=\"text/css\" href=\"https://cdn.rawgit.com/bmabey/pyLDAvis/files/ldavis.v1.0.0.css\">\n",
       "\n",
       "\n",
       "<div id=\"ldavis_el8624447450298167507552266\"></div>\n",
       "<script type=\"text/javascript\">\n",
       "\n",
       "var ldavis_el8624447450298167507552266_data = {\"mdsDat\": {\"Freq\": [35.42281592746343, 9.119672675033321, 8.469661088898683, 7.820072074036258, 7.424964592875082, 6.685687274730964, 6.5068013610477715, 6.357299016798873, 6.154140633109769, 6.038885356005843], \"cluster\": [1, 1, 1, 1, 1, 1, 1, 1, 1, 1], \"topics\": [1, 2, 3, 4, 5, 6, 7, 8, 9, 10], \"x\": [-0.05404760316216038, -0.19327058652007234, 0.00580416522411018, 0.07984739627931178, -0.15286967320401876, 0.061619687031363383, 0.09497167629462488, -0.20214079239389698, 0.46253935676978336, -0.10245362631904596], \"y\": [-0.00815162406422809, 0.06102465208471964, -0.1462802253427145, -0.1834643287781095, -0.024140789285356633, -0.13811701054340164, -0.13596305434550113, 0.08855511675449054, 0.1988218641972169, 0.28771539932288503]}, \"tinfo\": {\"Category\": [\"Default\", \"Default\", \"Default\", \"Default\", \"Default\", \"Default\", \"Default\", \"Default\", \"Default\", \"Default\", \"Default\", \"Default\", \"Default\", \"Default\", \"Default\", \"Default\", \"Default\", \"Default\", \"Default\", \"Default\", \"Default\", \"Default\", \"Default\", \"Default\", \"Default\", \"Default\", \"Default\", \"Default\", \"Default\", \"Default\", \"Topic1\", \"Topic1\", \"Topic1\", \"Topic1\", \"Topic1\", \"Topic1\", \"Topic1\", \"Topic1\", \"Topic1\", \"Topic1\", \"Topic1\", \"Topic1\", \"Topic1\", \"Topic1\", \"Topic1\", \"Topic1\", \"Topic1\", \"Topic1\", \"Topic1\", \"Topic1\", \"Topic1\", \"Topic1\", \"Topic1\", \"Topic1\", \"Topic1\", \"Topic1\", \"Topic1\", \"Topic1\", \"Topic1\", \"Topic1\", \"Topic1\", \"Topic1\", \"Topic1\", \"Topic1\", \"Topic1\", \"Topic1\", \"Topic1\", \"Topic1\", \"Topic1\", \"Topic1\", \"Topic1\", \"Topic1\", \"Topic1\", \"Topic1\", \"Topic1\", \"Topic1\", \"Topic1\", \"Topic1\", \"Topic1\", \"Topic1\", \"Topic1\", \"Topic2\", \"Topic2\", \"Topic2\", \"Topic2\", \"Topic2\", \"Topic2\", \"Topic2\", \"Topic2\", \"Topic2\", \"Topic2\", \"Topic2\", \"Topic2\", \"Topic2\", \"Topic2\", \"Topic2\", \"Topic2\", \"Topic2\", \"Topic2\", \"Topic2\", \"Topic2\", \"Topic2\", \"Topic2\", \"Topic2\", \"Topic2\", \"Topic2\", \"Topic2\", \"Topic2\", \"Topic2\", \"Topic2\", \"Topic2\", \"Topic2\", \"Topic2\", \"Topic2\", \"Topic2\", \"Topic2\", \"Topic2\", \"Topic2\", \"Topic2\", \"Topic2\", \"Topic2\", \"Topic2\", \"Topic2\", \"Topic2\", \"Topic2\", \"Topic2\", \"Topic2\", \"Topic2\", \"Topic2\", \"Topic2\", \"Topic2\", \"Topic2\", \"Topic2\", \"Topic2\", \"Topic2\", \"Topic2\", \"Topic2\", \"Topic3\", \"Topic3\", \"Topic3\", \"Topic3\", \"Topic3\", \"Topic3\", \"Topic3\", \"Topic3\", \"Topic3\", \"Topic3\", \"Topic3\", \"Topic3\", \"Topic3\", \"Topic3\", \"Topic3\", \"Topic3\", \"Topic3\", \"Topic3\", \"Topic3\", \"Topic3\", \"Topic3\", \"Topic3\", \"Topic3\", \"Topic3\", \"Topic3\", \"Topic3\", \"Topic3\", \"Topic3\", \"Topic3\", \"Topic3\", \"Topic3\", \"Topic3\", \"Topic3\", \"Topic3\", \"Topic3\", \"Topic3\", \"Topic3\", \"Topic3\", \"Topic3\", \"Topic3\", \"Topic3\", \"Topic3\", \"Topic3\", \"Topic3\", \"Topic3\", \"Topic3\", \"Topic3\", \"Topic3\", \"Topic3\", \"Topic3\", \"Topic3\", \"Topic4\", \"Topic4\", \"Topic4\", \"Topic4\", \"Topic4\", \"Topic4\", \"Topic4\", \"Topic4\", \"Topic4\", \"Topic4\", \"Topic4\", \"Topic4\", \"Topic4\", \"Topic4\", \"Topic4\", \"Topic4\", \"Topic4\", \"Topic4\", \"Topic4\", \"Topic4\", \"Topic4\", \"Topic4\", \"Topic4\", \"Topic4\", \"Topic4\", \"Topic4\", \"Topic4\", \"Topic4\", \"Topic4\", \"Topic4\", \"Topic4\", \"Topic4\", \"Topic4\", \"Topic4\", \"Topic4\", \"Topic5\", \"Topic5\", \"Topic5\", \"Topic5\", \"Topic5\", \"Topic5\", \"Topic5\", \"Topic5\", \"Topic5\", \"Topic5\", \"Topic5\", \"Topic5\", \"Topic5\", \"Topic5\", \"Topic5\", \"Topic5\", \"Topic5\", \"Topic5\", \"Topic5\", \"Topic5\", \"Topic5\", \"Topic5\", \"Topic5\", \"Topic5\", \"Topic5\", \"Topic5\", \"Topic5\", \"Topic5\", \"Topic5\", \"Topic5\", \"Topic5\", \"Topic5\", \"Topic5\", \"Topic5\", \"Topic5\", \"Topic5\", \"Topic5\", \"Topic5\", \"Topic5\", \"Topic5\", \"Topic5\", \"Topic5\", \"Topic5\", \"Topic5\", \"Topic5\", \"Topic5\", \"Topic5\", \"Topic5\", \"Topic5\", \"Topic5\", \"Topic6\", \"Topic6\", \"Topic6\", \"Topic6\", \"Topic6\", \"Topic6\", \"Topic6\", \"Topic6\", \"Topic6\", \"Topic6\", \"Topic6\", \"Topic6\", \"Topic6\", \"Topic6\", \"Topic6\", \"Topic6\", \"Topic6\", \"Topic6\", \"Topic6\", \"Topic6\", \"Topic6\", \"Topic6\", \"Topic6\", \"Topic6\", \"Topic6\", \"Topic6\", \"Topic6\", \"Topic6\", \"Topic6\", \"Topic6\", \"Topic6\", \"Topic6\", \"Topic6\", \"Topic6\", \"Topic6\", \"Topic6\", \"Topic6\", \"Topic6\", \"Topic6\", \"Topic6\", \"Topic6\", \"Topic7\", \"Topic7\", \"Topic7\", \"Topic7\", \"Topic7\", \"Topic7\", \"Topic7\", \"Topic7\", \"Topic7\", \"Topic7\", \"Topic7\", \"Topic7\", \"Topic7\", \"Topic7\", \"Topic7\", \"Topic7\", \"Topic7\", \"Topic7\", \"Topic7\", \"Topic7\", \"Topic7\", \"Topic7\", \"Topic7\", \"Topic7\", \"Topic7\", \"Topic7\", \"Topic7\", \"Topic7\", \"Topic7\", \"Topic7\", \"Topic7\", \"Topic7\", \"Topic7\", \"Topic7\", \"Topic7\", \"Topic7\", \"Topic7\", \"Topic7\", \"Topic7\", \"Topic8\", \"Topic8\", \"Topic8\", \"Topic8\", \"Topic8\", \"Topic8\", \"Topic8\", \"Topic8\", \"Topic8\", \"Topic8\", \"Topic8\", \"Topic8\", \"Topic8\", \"Topic8\", \"Topic8\", \"Topic8\", \"Topic8\", \"Topic8\", \"Topic8\", \"Topic8\", \"Topic8\", \"Topic8\", \"Topic8\", \"Topic8\", \"Topic8\", \"Topic8\", \"Topic8\", \"Topic8\", \"Topic8\", \"Topic8\", \"Topic8\", \"Topic8\", \"Topic8\", \"Topic8\", \"Topic8\", \"Topic8\", \"Topic8\", \"Topic8\", \"Topic8\", \"Topic8\", \"Topic8\", \"Topic8\", \"Topic8\", \"Topic8\", \"Topic8\", \"Topic8\", \"Topic8\", \"Topic8\", \"Topic8\", \"Topic8\", \"Topic8\", \"Topic8\", \"Topic8\", \"Topic8\", \"Topic9\", \"Topic9\", \"Topic9\", \"Topic9\", \"Topic9\", \"Topic9\", \"Topic9\", \"Topic9\", \"Topic9\", \"Topic9\", \"Topic9\", \"Topic9\", \"Topic9\", \"Topic9\", \"Topic9\", \"Topic9\", \"Topic9\", \"Topic9\", \"Topic9\", \"Topic9\", \"Topic9\", \"Topic9\", \"Topic9\", \"Topic9\", \"Topic9\", \"Topic9\", \"Topic9\", \"Topic9\", \"Topic9\", \"Topic9\", \"Topic9\", \"Topic9\", \"Topic9\", \"Topic9\", \"Topic9\", \"Topic9\", \"Topic9\", \"Topic9\", \"Topic10\", \"Topic10\", \"Topic10\", \"Topic10\", \"Topic10\", \"Topic10\", \"Topic10\", \"Topic10\", \"Topic10\", \"Topic10\", \"Topic10\", \"Topic10\", \"Topic10\", \"Topic10\", \"Topic10\", \"Topic10\", \"Topic10\", \"Topic10\", \"Topic10\", \"Topic10\", \"Topic10\", \"Topic10\", \"Topic10\", \"Topic10\", \"Topic10\", \"Topic10\", \"Topic10\", \"Topic10\", \"Topic10\", \"Topic10\", \"Topic10\", \"Topic10\", \"Topic10\", \"Topic10\", \"Topic10\", \"Topic10\", \"Topic10\", \"Topic10\", \"Topic10\", \"Topic10\"], \"Freq\": [1934.0, 3274.0, 1479.0, 519.0, 1263.0, 355.0, 2151.0, 383.0, 1889.0, 523.0, 533.0, 533.0, 765.0, 201.0, 245.0, 307.0, 206.0, 154.0, 114.0, 104.0, 86.0, 84.0, 85.0, 76.0, 62.0, 62.0, 63.0, 144.0, 52.0, 53.0, 1479.3978038877976, 144.4979771521588, 709.3908983858993, 1595.9594302896246, 501.5104507402154, 744.84739412742, 565.278496126131, 954.5027546708568, 0.026235111633187137, 0.026235110685851982, 0.026235110685851982, 0.026235110443000694, 0.026235110490996603, 0.02623511010770896, 0.02623515795277441, 0.026235115909747652, 0.026235110431930102, 0.026235110431930102, 0.026235109824383457, 0.026235112375887236, 0.026235110012022066, 0.026235201336369304, 0.026235109797222066, 0.026248673924502527, 0.026235121092452813, 0.02623512889518231, 0.02623511005661994, 0.026235109803457855, 0.02623522457682769, 0.026235206926857588, 0.026237854574349746, 0.026237291266256808, 0.026236700320001295, 0.026236658519803478, 0.02623646515340061, 0.026236424518006934, 0.02623638939809229, 0.026236317826082624, 0.02623617989124322, 0.026236175304955537, 0.026235993890056236, 0.026235936701658597, 0.026235905714290016, 0.026235736958263103, 0.026235730437311134, 0.026235693284522223, 0.026235690785685873, 0.026235618065315592, 0.026235594333383176, 0.026235576845947225, 0.026235449989738303, 1209.2665535531278, 514.7916757227667, 0.004655829054079851, 0.004655828947340779, 0.004655828947340779, 0.004655828918076307, 0.00465582892431951, 0.004655828869074875, 0.004655828836943603, 0.004655829590425717, 0.004655828908497737, 0.004655828908497737, 0.004655828834925682, 0.004655829166940591, 0.004655828859116273, 0.004655828828701836, 0.004655828831641739, 0.004655829086671285, 0.0046558288311344615, 0.004655828839953802, 0.004655828864984559, 0.00465582883307411, 0.004655828847101734, 0.004655828845446581, 0.004655835203334054, 0.004655828858507997, 0.004655828833108598, 0.00465582886138156, 0.0046558289056689225, 0.004655828847895205, 0.004655847543814255, 0.0046558441005287625, 0.0046558410050174135, 0.004655839650654454, 0.004655839550723305, 0.004655835947646959, 0.004655834974681395, 0.004655834950914895, 0.004655834572137719, 0.004655834383765133, 0.004655834022687533, 0.004655833290213211, 0.004655833028527714, 0.004655832314674994, 0.004655832191982069, 0.0046558317718785385, 0.00465583162949052, 0.004655831162041388, 0.004655830787549733, 0.004655830552853456, 0.004655830185829725, 0.004655830096545711, 0.0046558300434980755, 0.004655829915444647, 0.00465582990166899, 0.004655829691406237, 3.172800680703994, 311.4166962520612, 299.356093467585, 272.5160109571599, 137.0344230548641, 170.47178681293403, 251.56990667288477, 88.3116109968714, 0.004156220150428312, 0.004156220054182566, 0.004156220054182566, 0.004156220029437654, 0.004156220034196463, 67.38312019688523, 0.004156219990456392, 0.004156219962423734, 0.004156220604550854, 0.004156220024710831, 0.004156220024710831, 0.004156219960371963, 0.004156220228669302, 0.00415621998073259, 0.004156219955062399, 0.004156219957640112, 0.004156220166414111, 0.004156219956920371, 0.004156219964839541, 0.004156219985651934, 0.00415621995831705, 0.004156219970356706, 0.004156802915110196, 0.00415639643371955, 0.00415636751046687, 0.004156364512335399, 0.004156359320776635, 0.004156359136375854, 0.004156340700822293, 0.004156339928055568, 0.0041563392588840915, 0.004156335743791849, 0.004156329216528106, 0.004156321157267897, 0.00415631841508752, 0.004156299697255743, 0.004156286334080412, 0.00415628122080769, 0.004156269477002878, 0.004156266730461196, 0.004156260936591314, 0.004156258289703029, 0.004156257910652538, 86.02295257403529, 84.88362904700323, 63.389554963406496, 55.596104828446016, 53.34163215163378, 10.819243581380919, 6.433407086967868, 4.409133616709888, 2.455140155649004, 37.70662786249992, 1.9779724307196824, 29.477080033664148, 1.7570805751099272, 57.26650020587248, 1.4838200297640927, 1.2590096063789151, 139.61053134529712, 39.476331171963174, 0.5108342150827468, 174.21019657245162, 0.33176481066424535, 10.357401700988598, 0.2251476157911807, 0.1877691084981946, 0.04036337986953644, 121.41458438207395, 95.65186984297975, 41.62311257478861, 8.334582689577903, 77.05169333489084, 95.43965821052147, 62.29240231309335, 62.47739071222275, 37.84713380114378, 13.217656800491804, 18.852367302624636, 3.4743890288626145, 328.45511210252107, 0.42425439780922686, 0.4022771127714551, 0.3682995102648693, 380.9402991309554, 247.9509192733418, 183.9746102706483, 238.51272578471102, 0.005948166134547695, 0.005948165902779281, 0.005948165902779281, 0.005948165846346572, 0.005948165858232546, 0.005948165762910193, 0.005948165698220275, 0.005948167250277223, 0.00594816584185659, 0.00594816584185659, 0.005948165693850435, 0.005948166336769741, 0.0059481657436805755, 0.005948165681442847, 0.005948165687535875, 0.0059481661979186575, 0.0059482151138611425, 0.005948341293523324, 0.00594816575486015, 0.005948224423781647, 0.005948908048928167, 0.005948817233657641, 0.005948750791291012, 0.005948720990575723, 0.005948707646427143, 0.005948581629357314, 0.005948581299453968, 0.005948578953436367, 0.0059485389300148895, 0.005948523113597967, 0.005948469455804699, 0.005948446780402476, 0.005948413611941626, 0.005948409605613654, 0.00594839540624539, 0.0059483899948543, 0.005948378090502373, 0.005948377953073693, 0.0059483613366194685, 0.005948356748826221, 52.65989897053587, 49.19523609911117, 43.35763264565246, 5.345897601611111, 5.129948985508671, 0.4597845374927577, 203.8463588797829, 186.27484255612893, 83.86089517775021, 75.23301837648377, 56.042400234542605, 92.17595276523872, 106.81559110805092, 105.9172797865161, 0.005246516337433233, 0.005248190761385958, 0.005248190761385955, 0.005246516087088875, 0.005246516097765227, 97.06769093724205, 0.00524662377589068, 0.0052465159606822215, 0.005252689183498929, 0.005246718573185168, 0.005246718573185168, 0.00524660049872526, 0.005246516527201577, 0.005246515998282327, 0.005246515946050118, 100.29501861904392, 0.005254559699644837, 0.005248016162339717, 0.005247566192959755, 0.005247527858648047, 0.005247360926863876, 0.005247339133229617, 0.005247296695984074, 0.005247250696344747, 0.005247204114913972, 0.005247152692318923, 0.005247150421535401, 114.60892115412959, 53.04962678740832, 51.32839751170453, 48.721344000665276, 46.68557406083357, 35.56372291619047, 33.37296043482238, 28.722605634205685, 28.6284708578164, 21.798195030756524, 15.215261823798091, 7.7904148355326095, 7.6967422071262765, 3.8208630748773986, 2.0486537257287267, 1.1766200283383956, 1.1570525767888273, 0.5807266953807835, 0.26013770419659576, 0.1773710647606079, 0.13630324629258722, 0.12534197378841697, 0.11763361701619497, 0.061189956543639026, 66.31025559843026, 86.46278624076238, 32.59748194365747, 55.07158019907385, 6.508356400264251, 63.777664635250694, 44.12284686027683, 68.0868033151627, 82.6680945855614, 65.93144806106753, 61.90959810909767, 68.4041003996798, 10.599388403807959, 6.039050837744781, 8.793997449223161, 10.353570845935392, 1.1602650608244278, 733.0778571336012, 278.5923551605661, 0.00837333080700416, 177.800519664905, 0.008373330288617078, 0.008373330288617078, 0.008373330153115295, 0.008373330185941648, 0.00837332994308106, 0.008373329793049547, 0.008373333281237568, 0.0083733301267213, 0.0083733301267213, 0.008373329782161171, 0.0083733313195048, 0.008373329895284953, 0.008373329753030907, 0.008373329767634526, 0.008373330939007207, 0.00837332976427213, 0.008373371935172956, 0.008373329921785149, 0.008373499537245007, 0.008373329838354824, 0.008373329830185733, 0.00837332977844198, 0.008373329890295966, 0.008373329773927737, 0.008373847347997348, 0.008373824997800174, 0.00837376070022897, 0.008373679595802982, 0.008373650201109301, 0.008373596719830687, 0.008373590706527264, 0.008373515492610626, 0.008373513125942084, 0.008373507022468417, 0.00837350444919502, 0.008373486135669054, 0.008373485814025942, 0.008373475922243719, 0.00837347259828172, 0.008373464616970326, 0.008373447335754016, 0.008373438663732562, 0.00837342891825905, 0.008373406947737578, 0.008373404963437173, 0.008373404861485217, 0.008373401291042332, 0.00837340126495703, 201.31487984467347, 104.13745442883581, 76.07682688617261, 62.46160960814901, 62.02002300895716, 52.113858088998704, 37.50676548944982, 26.030285469950513, 22.120543431978795, 19.505998970442196, 15.718669723111077, 14.522497337237766, 14.250341666962537, 14.141835202312452, 13.93559380237441, 12.977983175816842, 12.541977251255439, 12.224296813960583, 11.531520953910075, 8.915315308112888, 6.632347834255163, 5.663648466283292, 5.659211584710563, 5.528923837122987, 5.233101490953739, 4.602688716887425, 4.335989350783901, 4.240833987419099, 3.7763777554944595, 3.6638963096341524, 77.26413964751009, 54.40282121323585, 66.17208924966506, 47.421082245111315, 15.557174038846252, 8.879223426775637, 7.062278683531449, 5.82379164422783, 355.4030795944301, 5.24612796797918, 502.8044623854664, 1.3709295258999736, 1.0627015695469182, 1.006787671258862, 0.9832413378471879, 0.8048162529431627, 0.678749751668742, 0.6174162995746922, 0.5337501087310684, 0.5293344510713512, 0.3830461123635651, 0.36364446813192663, 0.33356947987458574, 0.32053035305770256, 0.24083973009924953, 0.06401424471350041, 0.06401424471350022, 0.024702002634692154, 0.02470199778288436, 0.02470199778288436, 0.024701996424801653, 0.02470199666609772, 0.024756133806256464, 0.024701993480185685, 0.024702024837615823, 0.024701993386170983, 0.024702007014871394, 0.02470199437826495, 133.63825146689877, 78.18368568798691, 53.80472594949569, 0.024716286168414345, 0.02471489482811171, 0.02471443342609984, 0.02470784894601608, 0.024707557880616775, 0.02470680227844407, 0.02470655071589654], \"Term\": [\"Storage : modify/delete USB storage contents modify/delete SD card contents (D)\", \"Network communication : full Internet access (D)\", \"System tools : set wallpaper (S)\", \"System tools : modify global system settings (D)\", \"Phone calls : read phone state and identity (D)\", \"System tools : mount and unmount filesystems (D)\", \"Network communication : view network state (S)\", \"Network communication : view Wi-Fi state (S)\", \"Hardware controls : control vibrator (S)\", \"Your location : coarse (network-based) location (D)\", \"System tools : prevent device from sleeping (D)\", \"Your location : fine (GPS) location (D)\", \"System tools : retrieve running applications (D)\", \"Your accounts : discover known accounts (S)\", \"Hardware controls : take pictures and videos (D)\", \"System tools : automatically start at boot (S)\", \"Services that cost you money : directly call phone numbers (D)\", \"Your personal information : read contact data (D)\", \"Network communication : receive data from Internet (S)\", \"System tools : kill background processes (S)\", \"Hardware controls : record audio (D)\", \"Services that cost you money : send SMS messages (D)\", \"Phone calls : intercept outgoing calls (D)\", \"Your personal information : read sensitive log data (D)\", \"System tools : change your UI settings (D)\", \"Your accounts : access other Google services (D)\", \"Your messages : receive SMS (D)\", \"System tools : set wallpaper size hints (S)\", \"Default : directly install applications (S)\", \"System tools : change Wi-Fi state (D)\", \"System tools : set wallpaper (S)\", \"System tools : set wallpaper size hints (S)\", \"System tools : retrieve running applications (D)\", \"Hardware controls : control vibrator (S)\", \"Phone calls : read phone state and identity (D)\", \"Network communication : view network state (S)\", \"Storage : modify/delete USB storage contents modify/delete SD card contents (D)\", \"Network communication : full Internet access (D)\", \"Your accounts : Google Voice (D)\", \"Default : read instant messages (S)\", \"Default : write instant messages (S)\", \"Your accounts : Blogger (D)\", \"Default : Modify Google service configuration (S)\", \"Default : Read Google settings (S)\", \"Your accounts : Picasa Web Albums (D)\", \"Default : mock location sources for testing (S)\", \"Default : Voice Search Shortcuts (S)\", \"Default : Modify Google settings (S)\", \"Default : Audio File Access (S)\", \"Default : start IM service (S)\", \"Your accounts : Google Maps (D)\", \"Your accounts : contacts data in Google accounts (D)\", \"Your accounts : Google Finance (D)\", \"Default : act as an account authenticator (S)\", \"Your messages : Send Gmail (S)\", \"Default : Move application resources (S)\", \"System tools : change background data usage setting (S)\", \"Default : Access all system downloads (S)\", \"Your accounts : Google Spreadsheets (D)\", \"Your accounts : Google Docs (D)\", \"Default : bind to a wallpaper (S)\", \"Your personal information : choose widgets (S)\", \"System tools : mount and unmount filesystems (D)\", \"System tools : expand/collapse status bar (S)\", \"Your location : fine (GPS) location (D)\", \"System tools : prevent device from sleeping (D)\", \"Your location : coarse (network-based) location (D)\", \"Services that cost you money : directly call phone numbers (D)\", \"Hardware controls : test hardware (S)\", \"Your personal information : read sensitive log data (D)\", \"System tools : automatically start at boot (S)\", \"Network communication : view Wi-Fi state (S)\", \"Your personal information : read contact data (D)\", \"System tools : kill background processes (S)\", \"System tools : modify global animation speed (D)\", \"System tools : modify global system settings (D)\", \"Network communication : control Near Field Communication (D)\", \"Default : set wallpaper size hints (S)\", \"Your accounts : discover known accounts (S)\", \"System tools : set preferred applications (S)\", \"Your messages : read Gmail (D)\", \"Network communication : full Internet access (D)\", \"Network communication : view network state (S)\", \"Your accounts : Google Voice (D)\", \"Default : write instant messages (S)\", \"Default : read instant messages (S)\", \"Your accounts : Blogger (D)\", \"Default : Modify Google service configuration (S)\", \"Default : Read Google settings (S)\", \"Your accounts : Picasa Web Albums (D)\", \"Default : mock location sources for testing (S)\", \"Default : Voice Search Shortcuts (S)\", \"Default : Modify Google settings (S)\", \"Default : Audio File Access (S)\", \"Default : start IM service (S)\", \"Your accounts : Google Maps (D)\", \"Your accounts : contacts data in Google accounts (D)\", \"Your accounts : Google Finance (D)\", \"Default : act as an account authenticator (S)\", \"Your messages : Send Gmail (S)\", \"Default : Move application resources (S)\", \"System tools : change background data usage setting (S)\", \"Default : Access all system downloads (S)\", \"Your accounts : Google Spreadsheets (D)\", \"Your accounts : Google Docs (D)\", \"Default : Advanced download manager functions. (S)\", \"Network communication : Broadcast data messages to applications. (S)\", \"Your accounts : Google App Engine (D)\", \"Default : set time (S)\", \"Default : control system backup and restore (S)\", \"Default : partial shutdown (S)\", \"Services that cost you money : directly call phone numbers (D)\", \"System tools : change your UI settings (D)\", \"System tools : modify global animation speed (D)\", \"System tools : make application always run (D)\", \"System tools : kill background processes (S)\", \"System tools : prevent device from sleeping (D)\", \"System tools : write Access Point Name settings (D)\", \"Your personal information : read contact data (D)\", \"Your accounts : discover known accounts (S)\", \"Default : force device reboot (S)\", \"Default : bind to an input method (S)\", \"System tools : force stop other applications (S)\", \"System tools : write subscribed feeds (D)\", \"System tools : delete all application cache data (D)\", \"System tools : read subscribed feeds (S)\", \"Your accounts : use the authentication credentials of an account (D)\", \"Default : delete applications (S)\", \"Your personal information : read sensitive log data (D)\", \"Default : change screen orientation (S)\", \"System tools : measure application storage space (S)\", \"Your personal information : write to user defined dictionary (S)\", \"System tools : expand/collapse status bar (S)\", \"Your accounts : manage the accounts list (D)\", \"Default : disable or modify status bar (S)\", \"Default : record what you type and actions you take (S)\", \"System tools : automatically start at boot (S)\", \"Default : bind to a wallpaper (S)\", \"System tools : prevent device from sleeping (D)\", \"Your location : coarse (network-based) location (D)\", \"Your location : fine (GPS) location (D)\", \"Phone calls : read phone state and identity (D)\", \"Network communication : view network state (S)\", \"Network communication : full Internet access (D)\", \"Storage : modify/delete USB storage contents modify/delete SD card contents (D)\", \"Your accounts : Google Voice (D)\", \"Default : write instant messages (S)\", \"Default : read instant messages (S)\", \"Your accounts : Blogger (D)\", \"Default : Modify Google service configuration (S)\", \"Hardware controls : control vibrator (S)\", \"Default : Read Google settings (S)\", \"Your accounts : Picasa Web Albums (D)\", \"Default : mock location sources for testing (S)\", \"Default : Voice Search Shortcuts (S)\", \"Default : Modify Google settings (S)\", \"Default : Audio File Access (S)\", \"Default : start IM service (S)\", \"Your accounts : Google Maps (D)\", \"Your accounts : contacts data in Google accounts (D)\", \"Your accounts : Google Finance (D)\", \"Default : act as an account authenticator (S)\", \"Your messages : Send Gmail (S)\", \"Default : Move application resources (S)\", \"System tools : change background data usage setting (S)\", \"Default : Access all system downloads (S)\", \"Your accounts : Google Spreadsheets (D)\", \"Default : modify/delete USB storage contents modify/delete SD card contents (S)\", \"Services that cost you money : directly call phone numbers (D)\", \"Your accounts : discover known accounts (S)\", \"Network communication : receive data from Internet (S)\", \"Default : directly install applications (S)\", \"Network communication : view Wi-Fi state (S)\", \"Your personal information : read contact data (D)\", \"System tools : kill background processes (S)\", \"Default : force application to close (S)\", \"System tools : automatically start at boot (S)\", \"Default : bind to an input method (S)\", \"System tools : retrieve running applications (D)\", \"Your personal information : read sensitive log data (D)\", \"Phone calls : intercept outgoing calls (D)\", \"Default : disable or modify status bar (S)\", \"Hardware controls : record audio (D)\", \"System tools : set wallpaper (S)\", \"Default : delete other applications' caches (S)\", \"Default : Access download manager. (S)\", \"Hardware controls : change your audio settings (D)\", \"System tools : change your UI settings (D)\", \"Hardware controls : record audio (D)\", \"Services that cost you money : send SMS messages (D)\", \"Your messages : receive SMS (D)\", \"Your location : access extra location provider commands (S)\", \"Your location : mock location sources for testing (D)\", \"Default : directly call any phone numbers (S)\", \"Default : control location update notifications (S)\", \"Your messages : receive MMS (D)\", \"Default : Access Email provider data (S)\", \"Your messages : read SMS or MMS (D)\", \"Default : read frame buffer (S)\", \"Your messages : edit SMS or MMS (D)\", \"Your messages : read Gmail (D)\", \"Your personal information : write contact data (D)\", \"Default : permission to install a location provider (S)\", \"Your messages : send SMS-received broadcast (S)\", \"Your personal information : read contact data (D)\", \"Hardware controls : change your audio settings (D)\", \"Network communication : make/receive Internet calls (D)\", \"Services that cost you money : directly call phone numbers (D)\", \"Your messages : send WAP-PUSH-received broadcast (S)\", \"Phone calls : modify phone state (S)\", \"Your messages : read instant messages (D)\", \"Default : control system backup and restore (S)\", \"Default : mock location sources for testing (S)\", \"Your location : fine (GPS) location (D)\", \"Your location : coarse (network-based) location (D)\", \"Hardware controls : take pictures and videos (D)\", \"Phone calls : intercept outgoing calls (D)\", \"Phone calls : read phone state and identity (D)\", \"Network communication : full Internet access (D)\", \"Storage : modify/delete USB storage contents modify/delete SD card contents (D)\", \"Network communication : view network state (S)\", \"Hardware controls : control vibrator (S)\", \"System tools : prevent device from sleeping (D)\", \"System tools : display system-level alerts (D)\", \"Default : press keys and control buttons (S)\", \"Network communication : view Wi-Fi state (S)\", \"Default : modify the Google services map (S)\", \"Default : Send download notifications. (S)\", \"Default : force application to close (S)\", \"Phone calls : read phone state and identity (D)\", \"Network communication : view network state (S)\", \"Storage : modify/delete USB storage contents modify/delete SD card contents (D)\", \"Network communication : full Internet access (D)\", \"Your accounts : Google Voice (D)\", \"Default : write instant messages (S)\", \"Default : read instant messages (S)\", \"Your accounts : Blogger (D)\", \"Default : Modify Google service configuration (S)\", \"Default : Read Google settings (S)\", \"Your accounts : Picasa Web Albums (D)\", \"Default : mock location sources for testing (S)\", \"Default : Voice Search Shortcuts (S)\", \"Default : Modify Google settings (S)\", \"Default : Audio File Access (S)\", \"Default : start IM service (S)\", \"Your accounts : Google Maps (D)\", \"Your accounts : contacts data in Google accounts (D)\", \"Your accounts : Google Finance (D)\", \"Default : act as an account authenticator (S)\", \"Your messages : Send Gmail (S)\", \"Default : Move application resources (S)\", \"System tools : change background data usage setting (S)\", \"Default : Access all system downloads (S)\", \"System tools : prevent device from sleeping (D)\", \"Your location : coarse (network-based) location (D)\", \"Your location : fine (GPS) location (D)\", \"Hardware controls : control vibrator (S)\", \"Your personal information : read contact data (D)\", \"System tools : set wallpaper (S)\", \"Default : bind to a wallpaper (S)\", \"Your personal information : read sensitive log data (D)\", \"Services that cost you money : directly call phone numbers (D)\", \"Default : display unauthorized windows (S)\", \"Default : directly install applications (S)\", \"System tools : kill background processes (S)\", \"Development tools : make all background applications close (D)\", \"Default : Advanced download manager functions. (S)\", \"Your location : mock location sources for testing (D)\", \"Default : disable or modify status bar (S)\", \"System tools : change Wi-Fi state (D)\", \"Hardware controls : take pictures and videos (D)\", \"System tools : automatically start at boot (S)\", \"Default : Access download manager. (S)\", \"Your personal information : read Browser's history and bookmarks (D)\", \"Hardware controls : control flashlight (S)\", \"Your personal information : write Browser's history and bookmarks (D)\", \"Default : access SurfaceFlinger (S)\", \"Hardware controls : test hardware (S)\", \"Default : run in factory test mode (S)\", \"Hardware controls : take pictures and videos (D)\", \"System tools : automatically start at boot (S)\", \"Your location : coarse (network-based) location (D)\", \"Your location : fine (GPS) location (D)\", \"System tools : prevent device from sleeping (D)\", \"Phone calls : read phone state and identity (D)\", \"Hardware controls : control vibrator (S)\", \"Storage : modify/delete USB storage contents modify/delete SD card contents (D)\", \"Your accounts : Google Voice (D)\", \"Default : read instant messages (S)\", \"Default : write instant messages (S)\", \"Your accounts : Blogger (D)\", \"Default : Modify Google service configuration (S)\", \"Network communication : view network state (S)\", \"Default : Read Google settings (S)\", \"Your accounts : Picasa Web Albums (D)\", \"Default : mock location sources for testing (S)\", \"Default : Voice Search Shortcuts (S)\", \"Default : Modify Google settings (S)\", \"Default : Audio File Access (S)\", \"Default : start IM service (S)\", \"Your accounts : Google Maps (D)\", \"Your accounts : contacts data in Google accounts (D)\", \"Network communication : full Internet access (D)\", \"Default : Access Email provider data (S)\", \"Default : read frame buffer (S)\", \"Default : Send download notifications. (S)\", \"Network communication : view Wi-Fi state (S)\", \"Network communication : receive data from Internet (S)\", \"Your location : access extra location provider commands (S)\", \"Default : modify the Google services map (S)\", \"Network communication : download files without notification (S)\", \"Services that cost you money : directly call phone numbers (D)\", \"Your location : mock location sources for testing (D)\", \"Your personal information : read contact data (D)\", \"Network communication : receive data from Internet (S)\", \"System tools : change Wi-Fi state (D)\", \"Your personal information : read calendar events (D)\", \"Your personal information : add or modify calendar events and send email to guests (D)\", \"System tools : disable keylock (D)\", \"Network communication : create Bluetooth connections (D)\", \"Your accounts : view configured accounts (S)\", \"System tools : change network connectivity (D)\", \"System tools : bluetooth administration (D)\", \"System tools : send sticky broadcast (S)\", \"Default : modify battery statistics (S)\", \"Default : power device on or off (S)\", \"System tools : allow Wi-Fi Multicast reception (D)\", \"Network communication : control Near Field Communication (D)\", \"Default : access checkin properties (S)\", \"Your personal information : set alarm in alarm clock (S)\", \"Default : enable or disable application components (S)\", \"Default : display unauthorized windows (S)\", \"Your accounts : read Google service configuration (S)\", \"Default : set time (S)\", \"Network communication : Broadcast data messages to applications. (S)\", \"Your accounts : Google Docs (D)\", \"Your accounts : Google Spreadsheets (D)\", \"Your accounts : Google Maps (D)\", \"System tools : automatically start at boot (S)\", \"System tools : prevent device from sleeping (D)\", \"Services that cost you money : directly call phone numbers (D)\", \"Network communication : view Wi-Fi state (S)\", \"Hardware controls : change your audio settings (D)\", \"Your location : fine (GPS) location (D)\", \"Your location : coarse (network-based) location (D)\", \"Phone calls : read phone state and identity (D)\", \"Network communication : view network state (S)\", \"Hardware controls : control vibrator (S)\", \"Storage : modify/delete USB storage contents modify/delete SD card contents (D)\", \"Network communication : full Internet access (D)\", \"System tools : modify global system settings (D)\", \"Your personal information : read contact data (D)\", \"System tools : retrieve running applications (D)\", \"Default : delete other applications' caches (S)\", \"System tools : send package removed broadcast (S)\", \"Storage : modify/delete USB storage contents modify/delete SD card contents (D)\", \"Network communication : full Internet access (D)\", \"Your accounts : Google Voice (D)\", \"Network communication : view network state (S)\", \"Default : write instant messages (S)\", \"Default : read instant messages (S)\", \"Your accounts : Blogger (D)\", \"Default : Modify Google service configuration (S)\", \"Default : Read Google settings (S)\", \"Your accounts : Picasa Web Albums (D)\", \"Default : mock location sources for testing (S)\", \"Default : Voice Search Shortcuts (S)\", \"Default : Modify Google settings (S)\", \"Default : Audio File Access (S)\", \"Default : start IM service (S)\", \"Your accounts : Google Maps (D)\", \"Your accounts : contacts data in Google accounts (D)\", \"Your accounts : Google Finance (D)\", \"Default : act as an account authenticator (S)\", \"Your messages : Send Gmail (S)\", \"Default : Move application resources (S)\", \"System tools : change background data usage setting (S)\", \"Default : Access all system downloads (S)\", \"Your accounts : Google Spreadsheets (D)\", \"Your accounts : Google Docs (D)\", \"Default : Advanced download manager functions. (S)\", \"Network communication : Broadcast data messages to applications. (S)\", \"Your accounts : Google App Engine (D)\", \"System tools : prevent device from sleeping (D)\", \"Default : delete other applications' data (S)\", \"System tools : change your UI settings (D)\", \"Default : Access download manager. (S)\", \"Hardware controls : record audio (D)\", \"Default : record what you type and actions you take (S)\", \"Your location : fine (GPS) location (D)\", \"Your location : coarse (network-based) location (D)\", \"Default : bind to a wallpaper (S)\", \"System tools : measure application storage space (S)\", \"Your accounts : discover known accounts (S)\", \"Services that cost you money : directly call phone numbers (D)\", \"System tools : delete all application cache data (D)\", \"Default : permanently disable device (S)\", \"System tools : retrieve running applications (D)\", \"Default : access the cache filesystem (S)\", \"System tools : kill background processes (S)\", \"Default : disable or modify status bar (S)\", \"Your personal information : read contact data (D)\", \"System tools : automatically start at boot (S)\", \"Default : change screen orientation (S)\", \"Default : run in factory test mode (S)\", \"Your personal information : read sensitive log data (D)\", \"Development tools : enable application debugging (D)\", \"Your accounts : discover known accounts (S)\", \"System tools : kill background processes (S)\", \"Your personal information : read sensitive log data (D)\", \"System tools : change your UI settings (D)\", \"Your accounts : access other Google services (D)\", \"Default : directly install applications (S)\", \"Your accounts : use the authentication credentials of an account (D)\", \"Default : delete applications (S)\", \"Your accounts : manage the accounts list (D)\", \"Default : change screen orientation (S)\", \"Default : disable or modify status bar (S)\", \"System tools : write sync settings (D)\", \"Default : modify secure system settings (S)\", \"System tools : read sync settings (S)\", \"Your accounts : act as an account authenticator (D)\", \"System tools : make application always run (D)\", \"System tools : expand/collapse status bar (S)\", \"System tools : delete all application cache data (D)\", \"System tools : write Access Point Name settings (D)\", \"System tools : set preferred applications (S)\", \"System tools : measure application storage space (S)\", \"Default : force device reboot (S)\", \"Your accounts : act as the AccountManagerService (S)\", \"Your personal information : choose widgets (S)\", \"System tools : read sync statistics (S)\", \"Your personal information : read user defined dictionary (D)\", \"Your personal information : write to user defined dictionary (S)\", \"Default : bind to an input method (S)\", \"Default : delete other applications' data (S)\", \"Your messages : receive WAP (D)\", \"Phone calls : intercept outgoing calls (D)\", \"System tools : automatically start at boot (S)\", \"System tools : prevent device from sleeping (D)\", \"System tools : retrieve running applications (D)\", \"Hardware controls : control vibrator (S)\", \"Your personal information : read contact data (D)\", \"Phone calls : read phone state and identity (D)\", \"System tools : modify global system settings (D)\", \"System tools : mount and unmount filesystems (D)\", \"Development tools : enable application debugging (D)\", \"System tools : modify global system settings (D)\", \"Development tools : make all background applications close (D)\", \"Default : prevent app switches (S)\", \"Default : full Internet access (S)\", \"Default : coarse (network-based) location (S)\", \"Default : read phone state and identity (S)\", \"Your accounts : access all Google services (S)\", \"Default : access to passwords for Google accounts (S)\", \"Your accounts : YouTube usernames (D)\", \"Default : set wallpaper size hints (S)\", \"Network communication : download files without notification (S)\", \"Default : modify/delete USB storage contents modify/delete SD card contents (S)\", \"Default : discover known accounts (S)\", \"Your messages : write instant messages (D)\", \"Default : write contact data (S)\", \"Default : Modify Google settings (S)\", \"Default : Voice Search Shortcuts (S)\", \"Your accounts : Google Voice (D)\", \"Default : read instant messages (S)\", \"Default : write instant messages (S)\", \"Your accounts : Blogger (D)\", \"Default : Modify Google service configuration (S)\", \"Default : Read Google settings (S)\", \"Your accounts : Picasa Web Albums (D)\", \"Default : mock location sources for testing (S)\", \"Default : Audio File Access (S)\", \"Default : start IM service (S)\", \"Your accounts : Google Maps (D)\", \"Storage : modify/delete USB storage contents modify/delete SD card contents (D)\", \"Network communication : full Internet access (D)\", \"Network communication : view network state (S)\", \"Your messages : read instant messages (D)\", \"Default : control system backup and restore (S)\", \"Default : modify the Google services map (S)\", \"Default : partial shutdown (S)\", \"Default : bind to a wallpaper (S)\", \"Phone calls : read phone state and identity (D)\", \"Default : force application to close (S)\"], \"Total\": [1934.0, 3274.0, 1479.0, 519.0, 1263.0, 355.0, 2151.0, 383.0, 1889.0, 523.0, 533.0, 533.0, 765.0, 201.0, 245.0, 307.0, 206.0, 154.0, 114.0, 104.0, 86.0, 84.0, 85.0, 76.0, 62.0, 62.0, 63.0, 144.0, 52.0, 53.0, 1479.4662748744145, 144.56644746094887, 765.6625010716169, 1889.537579976388, 1263.8996370502073, 2151.888167120338, 1934.4127308577495, 3274.774728436857, 0.10112194574296487, 0.10974486249715625, 0.10974486249715625, 0.11078510234238174, 0.11467695536704726, 0.11746845289785991, 0.12174176674993743, 0.13165878458578326, 0.13402862491444473, 0.13402862491444484, 0.13570840618557617, 0.1456722442103221, 0.15191081145049004, 0.16560193863372363, 0.17202896481900665, 0.19238506850397666, 0.1926701946550615, 0.19450581382538892, 0.2031233076035973, 0.2069935287691257, 0.20835648243822188, 0.21606490089645553, 3.2633778452087223, 5.615662486721807, 355.4730813501026, 12.628715313083607, 533.0191640727028, 533.3815486675103, 523.0695911554924, 206.8949668004334, 5.219412355812302, 76.16356593442707, 307.06543132269877, 383.6114707087083, 154.6081267633618, 104.22419338214634, 1.3151536390343939, 519.2856962041261, 3.9115854320729775, 0.5993345340037576, 201.40164089109763, 9.002052739199586, 1.8483489844114036, 3274.774728436857, 2151.888167120338, 0.10112194574296487, 0.10974486249715625, 0.10974486249715625, 0.11078510234238174, 0.11467695536704726, 0.11746845289785991, 0.12174176674993743, 0.13165878458578326, 0.13402862491444473, 0.13402862491444484, 0.13570840618557617, 0.1456722442103221, 0.15191081145049004, 0.16560193863372363, 0.17202896481900665, 0.19238506850397666, 0.1926701946550615, 0.19450581382538892, 0.2031233076035973, 0.2069935287691257, 0.20835648243822188, 0.21606490089645553, 0.22443310706074004, 0.22702578563560352, 0.24531443438698367, 0.26809599685607066, 0.2790585651628173, 0.29525571776346293, 206.8949668004334, 62.548349768698145, 1.3151536390343939, 13.064719551353948, 104.22419338214634, 533.3815486675103, 11.618258758811706, 154.6081267633618, 201.40164089109763, 5.750385424745512, 4.327570629864537, 1.5638695921177945, 0.8188463674773916, 12.311034430481069, 0.9666880213570535, 37.593502383673815, 26.11702149740655, 76.16356593442707, 19.5927369033121, 6.7190839331573455, 4.4227248045719385, 12.628715313083607, 22.2072791859039, 15.805406518703668, 1.8772287733425372, 307.06543132269877, 3.2633778452087223, 533.3815486675103, 523.0695911554924, 533.0191640727028, 1263.8996370502073, 2151.888167120338, 3274.774728436857, 1934.4127308577495, 0.10112194574296487, 0.10974486249715625, 0.10974486249715625, 0.11078510234238174, 0.11467695536704726, 1889.537579976388, 0.11746845289785991, 0.12174176674993743, 0.13165878458578326, 0.13402862491444473, 0.13402862491444484, 0.13570840618557617, 0.1456722442103221, 0.15191081145049004, 0.16560193863372363, 0.17202896481900665, 0.19238506850397666, 0.1926701946550615, 0.19450581382538892, 0.2031233076035973, 0.2069935287691257, 0.20835648243822188, 0.43364462798862247, 206.8949668004334, 201.40164089109763, 114.69964488232223, 52.20059511170003, 383.6114707087083, 154.6081267633618, 104.22419338214634, 0.457066011396306, 307.06543132269877, 4.327570629864537, 765.6625010716169, 76.16356593442707, 85.68202169113394, 15.805406518703668, 86.1142207515888, 1479.4662748744145, 10.439908702025376, 2.827506043907542, 46.07197671059155, 62.548349768698145, 86.1142207515888, 84.97489625460835, 63.48082156202817, 55.68737159741506, 53.432899359580304, 10.910509267909328, 6.524672901020234, 4.500400608915403, 2.546415246021922, 39.234952913917496, 2.069240791627963, 31.00485180910777, 1.8483489844114036, 60.61182630267718, 1.575085574425722, 1.3502766363898762, 154.6081267633618, 46.07197671059155, 0.6021007813594853, 206.8949668004334, 0.4230351069888951, 13.765481196320922, 0.3164276832792587, 0.2790585651628173, 0.13165878458578326, 533.0191640727028, 523.0695911554924, 245.55549254658362, 85.68202169113394, 1263.8996370502073, 3274.774728436857, 1934.4127308577495, 2151.888167120338, 1889.537579976388, 533.3815486675103, 18.94113001506731, 3.563149450255861, 383.6114707087083, 0.5130306918477917, 0.49103472478420485, 0.457066011396306, 1263.8996370502073, 2151.888167120338, 1934.4127308577495, 3274.774728436857, 0.10112194574296487, 0.10974486249715625, 0.10974486249715625, 0.11078510234238174, 0.11467695536704726, 0.11746845289785991, 0.12174176674993743, 0.13165878458578326, 0.13402862491444473, 0.13402862491444484, 0.13570840618557617, 0.1456722442103221, 0.15191081145049004, 0.16560193863372363, 0.17202896481900665, 0.19238506850397666, 0.1926701946550615, 0.19450581382538892, 0.2031233076035973, 0.2069935287691257, 533.3815486675103, 523.0695911554924, 533.0191640727028, 1889.537579976388, 154.6081267633618, 1479.4662748744145, 3.2633778452087223, 76.16356593442707, 206.8949668004334, 0.6714569788169084, 52.20059511170003, 104.22419338214634, 1.4409384635433193, 0.22443310706074004, 53.432899359580304, 15.805406518703668, 53.14034960061463, 245.55549254658362, 307.06543132269877, 2.827506043907542, 52.74935661693028, 49.28469346198633, 43.447089296726475, 5.435357392760851, 5.219412355812302, 0.549250112811677, 245.55549254658362, 307.06543132269877, 523.0695911554924, 533.0191640727028, 533.3815486675103, 1263.8996370502073, 1889.537579976388, 1934.4127308577495, 0.10112194574296487, 0.10974486249715625, 0.10974486249715625, 0.11078510234238174, 0.11467695536704726, 2151.888167120338, 0.11746845289785991, 0.12174176674993743, 0.13165878458578326, 0.13402862491444473, 0.13402862491444484, 0.13570840618557617, 0.1456722442103221, 0.15191081145049004, 0.16560193863372363, 3274.774728436857, 2.546415246021922, 2.069240791627963, 0.49103472478420485, 383.6114707087083, 114.69964488232223, 55.68737159741506, 0.5130306918477917, 0.4530476574303949, 206.8949668004334, 53.432899359580304, 154.6081267633618, 114.69964488232223, 53.14034960061463, 51.419119233978265, 48.81206554356806, 46.77629792709759, 35.654444724580884, 33.46369954007947, 28.813328637767885, 28.71919233425809, 21.888916709313044, 15.305984559644529, 7.881138001969097, 7.7874636456295105, 3.9115854320729775, 2.139376613389983, 1.2673423245526523, 1.2477765831978738, 0.6714569788169084, 0.35086479495767164, 0.26809599685607066, 0.22702578563560352, 0.21606490089645553, 0.20835648243822188, 0.15191081145049004, 307.06543132269877, 533.3815486675103, 206.8949668004334, 383.6114707087083, 46.07197671059155, 533.0191640727028, 523.0695911554924, 1263.8996370502073, 2151.888167120338, 1889.537579976388, 1934.4127308577495, 3274.774728436857, 519.2856962041261, 154.6081267633618, 765.6625010716169, 10.439908702025376, 1.24660650079643, 1934.4127308577495, 3274.774728436857, 0.10112194574296487, 2151.888167120338, 0.10974486249715625, 0.10974486249715625, 0.11078510234238174, 0.11467695536704726, 0.11746845289785991, 0.12174176674993743, 0.13165878458578326, 0.13402862491444473, 0.13402862491444484, 0.13570840618557617, 0.1456722442103221, 0.15191081145049004, 0.16560193863372363, 0.17202896481900665, 0.19238506850397666, 0.1926701946550615, 0.19450581382538892, 0.2031233076035973, 0.2069935287691257, 0.20835648243822188, 0.21606490089645553, 0.22443310706074004, 0.22702578563560352, 0.24531443438698367, 533.3815486675103, 3.863114298813585, 62.548349768698145, 2.827506043907542, 86.1142207515888, 1.8772287733425372, 533.0191640727028, 523.0695911554924, 3.2633778452087223, 6.7190839331573455, 201.40164089109763, 206.8949668004334, 12.311034430481069, 0.32715749867407484, 765.6625010716169, 0.4390354738157482, 104.22419338214634, 15.805406518703668, 154.6081267633618, 307.06543132269877, 19.5927369033121, 0.549250112811677, 76.16356593442707, 5.31612955691677, 201.40164089109763, 104.22419338214634, 76.16356593442707, 62.548349768698145, 62.10675905298571, 52.20059511170003, 37.593502383673815, 26.11702149740655, 22.2072791859039, 19.5927369033121, 15.805406518703668, 14.60923342035337, 14.337082038411005, 14.228571066604, 14.022329580972915, 13.064719551353948, 12.628715313083607, 12.311034430481069, 11.618258758811706, 9.002052739199586, 6.7190839331573455, 5.750385424745512, 5.74594774628825, 5.615662486721807, 5.319837131599697, 4.689424163103529, 4.4227248045719385, 4.327570629864537, 3.863114298813585, 3.750633114889186, 85.68202169113394, 307.06543132269877, 533.3815486675103, 765.6625010716169, 1889.537579976388, 154.6081267633618, 1263.8996370502073, 519.2856962041261, 355.4730813501026, 5.31612955691677, 519.2856962041261, 1.4409384635433193, 1.1327020000405907, 1.0767873136941108, 1.0532409653919583, 0.8748158288573097, 0.7487508006040362, 0.6874164751024783, 0.6037507385779572, 0.5993345340037576, 0.4530476574303949, 0.43364462798862247, 0.4035695074241926, 0.39053159107853497, 0.3108397981995271, 0.13402862491444484, 0.13402862491444473, 0.10112194574296487, 0.10974486249715625, 0.10974486249715625, 0.11078510234238174, 0.11467695536704726, 0.11746845289785991, 0.12174176674993743, 0.13165878458578326, 0.13570840618557617, 0.1456722442103221, 0.15191081145049004, 1934.4127308577495, 3274.774728436857, 2151.888167120338, 0.3164276832792587, 0.2790585651628173, 0.5130306918477917, 0.29525571776346293, 3.2633778452087223, 1263.8996370502073, 0.457066011396306], \"loglift\": [30.0, 29.0, 28.0, 27.0, 26.0, 25.0, 24.0, 23.0, 22.0, 21.0, 20.0, 19.0, 18.0, 17.0, 16.0, 15.0, 14.0, 13.0, 12.0, 11.0, 10.0, 9.0, 8.0, 7.0, 6.0, 5.0, 4.0, 3.0, 2.0, 1.0, 1.0378, 1.0373, 0.9615, 0.869, 0.1135, -0.0231, -0.1924, -0.195, -0.3114, -0.3932, -0.3932, -0.4027, -0.4372, -0.4613, -0.497, -0.5753, -0.5931, -0.5931, -0.6056, -0.6764, -0.7184, -0.8047, -0.8428, -0.9541, -0.9561, -0.9655, -1.0089, -1.0278, -1.0343, -1.0707, -3.7855, -4.3283, -8.4762, -5.1388, -8.8813, -8.882, -8.8625, -7.935, -4.2552, -6.9357, -8.3299, -8.5524, -7.6437, -7.2494, -2.8768, -8.8553, -3.9668, -2.0909, -7.9081, -4.8003, -3.2171, 1.3985, 0.9644, -0.6835, -0.7653, -0.7653, -0.7747, -0.8093, -0.8333, -0.869, -0.9474, -0.9652, -0.9652, -0.9777, -1.0485, -1.0904, -1.1767, -1.2148, -1.3266, -1.3281, -1.3376, -1.381, -1.3998, -1.4064, -1.4427, -1.4807, -1.4922, -1.5697, -1.6585, -1.6986, -1.755, -8.3071, -7.1108, -3.2488, -5.5448, -7.6214, -9.2541, -5.4275, -8.0158, -8.2802, -4.7242, -4.4399, -3.4221, -2.775, -5.4854, -2.941, -6.6017, -6.2375, -7.3078, -5.9501, -4.8799, -4.4617, -5.5109, -6.0753, -5.7353, -3.6047, -8.702, 2.4405, 1.9306, 1.9106, 1.7978, 0.247, -0.0669, -0.0976, -0.618, -0.723, -0.8049, -0.8049, -0.8143, -0.8488, -0.865, -0.8729, -0.9086, -0.9869, -1.0048, -1.0048, -1.0172, -1.0881, -1.13, -1.2163, -1.2544, -1.3662, -1.3677, -1.3772, -1.4205, -1.4394, -1.446, -2.1788, -8.3466, -8.3197, -7.7568, -6.9695, -8.9641, -8.0553, -7.661, -2.2315, -8.7415, -4.4794, -9.6552, -7.3473, -7.4651, -5.7748, -7.4701, -10.3139, -5.3601, -4.0539, -6.8447, -7.1504, 2.5474, 2.5474, 2.547, 2.5468, 2.5468, 2.5401, 2.5344, 2.528, 2.512, 2.5087, 2.5034, 2.4979, 2.4978, 2.4917, 2.4888, 2.4785, 2.4464, 2.394, 2.3841, 2.3765, 2.3054, 2.264, 2.2081, 2.1523, 1.3662, 1.0691, 0.8495, 0.7736, 0.2182, -0.249, -0.987, -0.8872, -0.9908, -1.3621, -1.1492, 2.5956, 2.5751, 2.4451, 2.4103, 2.4009, 2.3844, 1.401, 0.4395, 0.2476, -0.0193, -0.2329, -0.3148, -0.3148, -0.3242, -0.3587, -0.3828, -0.4185, -0.4968, -0.5146, -0.5146, -0.5271, -0.598, -0.6399, -0.7262, -0.7643, -0.8761, -0.8776, -0.887, -0.9304, -0.9493, -8.8035, -8.784, -8.8028, -10.0683, -7.5652, -9.8237, -3.707, -6.8572, -7.8565, -2.126, -6.4794, -7.1708, -2.8896, -1.0301, -6.5027, -5.2847, -6.4973, -8.0278, -8.2514, -3.5637, 2.7035, 2.7034, 2.7031, 2.6886, 2.6879, 2.5274, 2.519, 2.2054, 0.8746, 0.7472, 0.4521, 0.0869, -0.1678, -0.1997, -0.2536, -0.3351, -0.3351, -0.3448, -0.3794, -0.3935, -0.4034, -0.4391, -0.5163, -0.5352, -0.5352, -0.5477, -0.6186, -0.6605, -0.7468, -0.7807, -3.4781, -3.2719, -1.8335, -8.4944, -7.2871, -6.5646, -1.8774, -1.7531, -7.8771, -6.5233, -7.5858, 2.7315, 2.7306, 2.7306, 2.7305, 2.7304, 2.7298, 2.7296, 2.7292, 2.7292, 2.7282, 2.7264, 2.7207, 2.7206, 2.7089, 2.689, 2.658, 2.6568, 2.5872, 2.4331, 2.3192, 2.2221, 2.1878, 2.1606, 1.823, 1.1996, 0.9128, 0.8843, 0.7913, 0.7752, 0.6092, 0.2596, -0.1889, -0.5269, -0.6231, -0.7096, -1.1362, -1.1593, -0.5103, -1.7343, 2.7473, 2.6838, 1.7853, 0.2913, 0.2643, 0.2621, 0.1825, 0.1825, 0.173, 0.1385, 0.1144, 0.0787, 0.0004, -0.0174, -0.0174, -0.0299, -0.1007, -0.1427, -0.229, -0.267, -0.3789, -0.3804, -0.3898, -0.4332, -0.452, -0.4586, -0.495, -0.533, -0.5444, -0.6219, -8.3063, -3.3786, -6.163, -3.0665, -6.4828, -2.6569, -8.3057, -8.2868, -3.2099, -3.9321, -7.3324, -7.3593, -4.5376, -0.9098, -8.6679, -1.2039, -6.6737, -4.7875, -7.068, -7.7542, -5.0023, -1.4279, -6.36, -3.6979, 2.7876, 2.7872, 2.7869, 2.7867, 2.7866, 2.7864, 2.7857, 2.7847, 2.7841, 2.7836, 2.7825, 2.7821, 2.782, 2.7819, 2.7818, 2.7814, 2.7812, 2.781, 2.7806, 2.7784, 2.7751, 2.7728, 2.7728, 2.7725, 2.7716, 2.7694, 2.7682, 2.7678, 2.7653, 2.7646, 2.6846, 1.0574, 0.7011, 0.0064, -2.0115, -0.0691, -2.3991, -1.7025, 2.8068, 2.7937, 2.7747, 2.7571, 2.7432, 2.7397, 2.7382, 2.7236, 2.7088, 2.6996, 2.6837, 2.6828, 2.6391, 2.6309, 2.6165, 2.6094, 2.5518, 2.068, 2.068, 1.3975, 1.3157, 1.3157, 1.3062, 1.2717, 1.2499, 1.2119, 1.1336, 1.1033, 1.0325, 0.9905, 0.1345, -0.928, -0.8818, 0.2573, 0.3829, -0.226, 0.3262, -2.0765, -8.0357, -0.1108], \"logprob\": [30.0, 29.0, 28.0, 27.0, 26.0, 25.0, 24.0, 23.0, 22.0, 21.0, 20.0, 19.0, 18.0, 17.0, 16.0, 15.0, 14.0, 13.0, 12.0, 11.0, 10.0, 9.0, 8.0, 7.0, 6.0, 5.0, 4.0, 3.0, 2.0, 1.0, -1.5104, -3.8366, -2.2454, -1.4346, -2.5922, -2.1966, -2.4725, -1.9486, -12.4505, -12.4505, -12.4505, -12.4505, -12.4505, -12.4505, -12.4505, -12.4505, -12.4505, -12.4505, -12.4505, -12.4505, -12.4505, -12.4505, -12.4505, -12.45, -12.4505, -12.4505, -12.4505, -12.4505, -12.4505, -12.4505, -12.4504, -12.4504, -12.4504, -12.4504, -12.4504, -12.4504, -12.4504, -12.4504, -12.4504, -12.4504, -12.4504, -12.4504, -12.4504, -12.4505, -12.4505, -12.4505, -12.4505, -12.4505, -12.4505, -12.4505, -12.4505, -0.3551, -1.2091, -12.8225, -12.8225, -12.8225, -12.8225, -12.8225, -12.8225, -12.8225, -12.8225, -12.8225, -12.8225, -12.8225, -12.8225, -12.8225, -12.8225, -12.8225, -12.8225, -12.8225, -12.8225, -12.8225, -12.8225, -12.8225, -12.8225, -12.8225, -12.8225, -12.8225, -12.8225, -12.8225, -12.8225, -12.8225, -12.8225, -12.8225, -12.8225, -12.8225, -12.8225, -12.8225, -12.8225, -12.8225, -12.8225, -12.8225, -12.8225, -12.8225, -12.8225, -12.8225, -12.8225, -12.8225, -12.8225, -12.8225, -12.8225, -12.8225, -12.8225, -12.8225, -12.8225, -12.8225, -12.8225, -6.2243, -1.6378, -1.6773, -1.7713, -2.4587, -2.2404, -1.8512, -2.8981, -12.8621, -12.8621, -12.8621, -12.8621, -12.8621, -3.1686, -12.8621, -12.8621, -12.8621, -12.8621, -12.8621, -12.8621, -12.8621, -12.8621, -12.8621, -12.8621, -12.8621, -12.8621, -12.8621, -12.8621, -12.8621, -12.8621, -12.862, -12.8621, -12.8621, -12.8621, -12.8621, -12.8621, -12.8621, -12.8621, -12.8621, -12.8621, -12.8621, -12.8621, -12.8621, -12.8621, -12.8621, -12.8621, -12.8621, -12.8621, -12.8621, -12.8621, -12.8621, -2.8445, -2.8579, -3.1499, -3.281, -3.3224, -4.9178, -5.4377, -5.8155, -6.401, -3.6693, -6.6171, -3.9155, -6.7355, -3.2514, -6.9045, -7.0688, -2.3603, -3.6235, -7.9709, -2.1389, -8.4025, -4.9615, -8.7902, -8.9717, -10.509, -2.4999, -2.7384, -3.5705, -5.1787, -2.9547, -2.7407, -3.1673, -3.1644, -3.6656, -4.7176, -4.3107, -6.0019, -1.4529, -8.1047, -8.1579, -8.2462, -1.3047, -1.7341, -2.0325, -1.7729, -12.372, -12.372, -12.372, -12.372, -12.372, -12.372, -12.372, -12.372, -12.372, -12.372, -12.372, -12.372, -12.372, -12.372, -12.372, -12.372, -12.372, -12.372, -12.372, -12.372, -12.3719, -12.3719, -12.3719, -12.3719, -12.3719, -12.3719, -12.3719, -12.3719, -12.3719, -12.3719, -12.3719, -12.3719, -12.3719, -12.3719, -12.3719, -12.3719, -12.3719, -12.3719, -12.372, -12.372, -3.1786, -3.2466, -3.373, -5.4661, -5.5073, -7.9194, -1.8251, -1.9152, -2.7133, -2.8218, -3.1163, -2.6187, -2.4713, -2.4798, -12.3926, -12.3923, -12.3923, -12.3926, -12.3926, -2.567, -12.3926, -12.3926, -12.3914, -12.3926, -12.3926, -12.3926, -12.3926, -12.3926, -12.3926, -2.5343, -12.3911, -12.3923, -12.3924, -12.3924, -12.3925, -12.3925, -12.3925, -12.3925, -12.3925, -12.3925, -12.3925, -2.3738, -3.1441, -3.1771, -3.2292, -3.2719, -3.544, -3.6076, -3.7576, -3.7609, -4.0335, -4.393, -5.0624, -5.0745, -5.7748, -6.3981, -6.9527, -6.9694, -7.6588, -8.4619, -8.8448, -9.1082, -9.192, -9.2555, -9.9091, -2.921, -2.6556, -3.6311, -3.1067, -5.2422, -2.9599, -3.3283, -2.8945, -2.7005, -2.9267, -2.9896, -2.8899, -4.7545, -5.3171, -4.9412, -4.7547, -6.9434, -0.4948, -1.4623, -11.8748, -1.9114, -11.8748, -11.8748, -11.8748, -11.8748, -11.8748, -11.8748, -11.8748, -11.8748, -11.8748, -11.8748, -11.8748, -11.8748, -11.8748, -11.8748, -11.8748, -11.8748, -11.8748, -11.8748, -11.8748, -11.8748, -11.8748, -11.8748, -11.8748, -11.8748, -11.8747, -11.8747, -11.8747, -11.8747, -11.8747, -11.8747, -11.8747, -11.8747, -11.8747, -11.8748, -11.8748, -11.8748, -11.8748, -11.8748, -11.8748, -11.8748, -11.8748, -11.8748, -11.8748, -11.8748, -11.8748, -11.8748, -11.8748, -11.8748, -1.7547, -2.4139, -2.7278, -2.925, -2.9321, -3.1062, -3.4351, -3.8003, -3.9631, -4.0889, -4.3047, -4.3839, -4.4028, -4.4105, -4.4251, -4.4963, -4.5305, -4.5562, -4.6145, -4.8718, -5.1676, -5.3255, -5.3263, -5.3496, -5.4046, -5.5329, -5.5926, -5.6148, -5.7308, -5.7611, -2.7124, -3.0632, -2.8673, -3.2005, -4.3151, -4.8759, -5.1048, -5.2976, -1.1674, -5.3832, -0.8205, -6.7252, -6.9799, -7.0339, -7.0576, -7.2578, -7.4282, -7.5229, -7.6685, -7.6768, -8.0003, -8.0523, -8.1386, -8.1785, -8.4643, -9.7893, -9.7893, -10.7416, -10.7416, -10.7416, -10.7416, -10.7416, -10.7394, -10.7416, -10.7416, -10.7416, -10.7416, -10.7416, -2.1455, -2.6816, -3.0553, -10.741, -10.741, -10.7411, -10.7413, -10.7413, -10.7414, -10.7414]}, \"token.table\": {\"Topic\": [4, 9, 6, 7, 10, 3, 9, 9, 10, 4, 9, 8, 9, 4, 9, 9, 7, 7, 9, 10, 7, 9, 4, 7, 5, 10, 4, 10, 9, 10, 10, 10, 4, 7, 6, 1, 3, 4, 6, 7, 9, 4, 4, 6, 6, 7, 7, 1, 2, 3, 4, 5, 6, 7, 8, 10, 4, 7, 5, 7, 1, 2, 3, 4, 5, 6, 7, 8, 10, 4, 9, 4, 9, 1, 3, 4, 5, 6, 7, 9, 4, 7, 4, 1, 3, 4, 5, 6, 7, 8, 10, 7, 6, 7, 9, 7, 7, 7, 9, 9, 7, 5, 9, 9, 9, 9, 9, 9, 7, 9, 10, 10, 3, 4, 6, 7, 9, 9, 9, 9, 1, 7, 9, 8, 7, 9, 1, 1, 9, 9, 9, 10, 10, 9, 9, 9, 9, 9, 9, 7, 4, 3, 4, 6, 7, 3, 4, 6, 7, 4, 4, 9, 4, 4, 9, 4, 4, 9, 4, 7, 9, 6, 7, 4, 7, 9, 9, 9, 7, 6, 4, 9, 9], \"Freq\": [0.7854178548154915, 1.0610056896126296, 0.9199027108427704, 0.934851763584939, 1.4547221898499343, 0.9192928745301705, 0.9243061158600222, 1.0207864321711508, 0.949450346937327, 0.9195863288505707, 0.9955193398520512, 0.9578627826563242, 1.0354340282472239, 1.0082022506826411, 0.9961572255781607, 1.012311830199752, 1.4892986915736237, 0.8014255223776858, 1.043408320802346, 0.9286885044822099, 0.9800088286740285, 0.9764887975455594, 0.6348861396718722, 1.0150818318371289, 0.8419517738119509, 0.8828447375957355, 0.9665380694658121, 1.1430977435630156, 1.065400247642092, 1.668517235807624, 0.9405338877594779, 0.693992162261367, 0.8465015565749372, 0.15193617682114258, 0.9942234912710594, 0.8446511024247233, 0.03545841094138876, 0.020110740533921985, 0.056627611503411904, 0.03492918092733818, 0.008467680224809256, 0.9986736133638334, 0.17104076787055497, 0.8307694439426956, 0.9579622492237148, 1.0226032562658784, 1.0096917867628683, 0.29162311279220376, 0.3691856998594496, 0.07695185803522026, 0.029009629021213987, 0.07298211932705413, 0.03053645160127788, 0.02076478708886896, 0.08519669996756529, 0.023818432248996747, 1.6608515234643888, 1.002618622908431, 0.8550317835752719, 0.14337423200195107, 0.3462075824307175, 0.23932470463331476, 0.0790003879372107, 0.028811906188865078, 0.11524762475546031, 0.04507669194064375, 0.03857077763993228, 0.08271805325190297, 0.02509424087417281, 0.09336847849877251, 0.8986716055506855, 0.7264548080362555, 0.21793644241087665, 0.3971834355230996, 0.10839468260291762, 0.060922558835216474, 0.3014479859249023, 0.07279058977714176, 0.0538017402700613, 0.005538414439565134, 0.8410064425000575, 0.1595012218534592, 1.0002954254314878, 0.2920783093427378, 0.04549184287108129, 0.03205107111371636, 0.09511930782135179, 0.05479699254925701, 0.03205107111371636, 0.3789263730057112, 0.06927166982641923, 1.027292115127853, 0.6057340912612542, 0.21493790335076762, 0.17585828455971897, 1.0097777006565378, 0.9973588882709759, 1.0064786462049868, 0.9912331856759463, 0.9747353130853916, 1.0047823808812544, 1.0031080503056502, 1.0294000361645443, 0.6394395063630584, 0.9978489314729037, 0.9950462349306809, 1.0418086854751716, 0.7603674356512563, 0.021182944341443997, 0.01155433327715127, 0.9686382730678482, 0.998669150000597, 0.5830722880777144, 0.02437279660775012, 0.10499050846415436, 0.1612354237128085, 0.12373881354703907, 1.0344599063058448, 0.9839357680026999, 0.9398783978366795, 0.9259954601507683, 0.011754526292463912, 0.06138474841620043, 0.8021777516490741, 1.005074864698064, 0.9997719698763098, 0.9996848357530461, 0.9960817501508995, 1.0328570097389824, 1.2212303060959846, 1.0267479181421129, 1.656312673596636, 1.3355578373916592, 0.9982810397030277, 0.9984075698089985, 1.0442141601228208, 0.998005771505532, 0.9906661602185165, 1.0108129753960546, 0.9861432075218075, 1.0056139909932371, 0.5716256594834559, 0.18353198431575843, 0.1605904862762886, 0.08411882614472262, 0.5121767065822859, 0.22700872343024395, 0.1407078864237049, 0.1200707297482282, 0.9918982618430066, 0.9353374813254602, 0.032253016597429664, 1.082046743806278, 0.9685241647510827, 0.025487478019765333, 0.8888097633077159, 0.9924257192928994, 1.0664866110526467, 0.7405889823241095, 1.0038501639776787, 1.0684402800536812, 1.004751591282713, 0.9918489612381126, 0.9055151429024133, 0.03880779183867485, 0.05821168775801228, 0.9978524385981626, 1.0662289923227861, 0.7890527923092768, 0.9897095684897778, 0.9404105349896437, 0.049495291315244404, 0.9044198264077041], \"Term\": [\"Default : Access Email provider data (S)\", \"Default : Access download manager. (S)\", \"Default : access SurfaceFlinger (S)\", \"Default : access checkin properties (S)\", \"Default : access to passwords for Google accounts (S)\", \"Default : bind to a wallpaper (S)\", \"Default : bind to an input method (S)\", \"Default : change screen orientation (S)\", \"Default : coarse (network-based) location (S)\", \"Default : control location update notifications (S)\", \"Default : delete applications (S)\", \"Default : delete other applications' caches (S)\", \"Default : delete other applications' data (S)\", \"Default : directly call any phone numbers (S)\", \"Default : directly install applications (S)\", \"Default : disable or modify status bar (S)\", \"Default : display unauthorized windows (S)\", \"Default : enable or disable application components (S)\", \"Default : force device reboot (S)\", \"Default : full Internet access (S)\", \"Default : modify battery statistics (S)\", \"Default : modify secure system settings (S)\", \"Default : permission to install a location provider (S)\", \"Default : power device on or off (S)\", \"Default : press keys and control buttons (S)\", \"Default : prevent app switches (S)\", \"Default : read frame buffer (S)\", \"Default : read phone state and identity (S)\", \"Default : record what you type and actions you take (S)\", \"Default : set wallpaper size hints (S)\", \"Development tools : enable application debugging (D)\", \"Development tools : make all background applications close (D)\", \"Hardware controls : change your audio settings (D)\", \"Hardware controls : change your audio settings (D)\", \"Hardware controls : control flashlight (S)\", \"Hardware controls : control vibrator (S)\", \"Hardware controls : control vibrator (S)\", \"Hardware controls : control vibrator (S)\", \"Hardware controls : control vibrator (S)\", \"Hardware controls : control vibrator (S)\", \"Hardware controls : control vibrator (S)\", \"Hardware controls : record audio (D)\", \"Hardware controls : take pictures and videos (D)\", \"Hardware controls : take pictures and videos (D)\", \"Hardware controls : test hardware (S)\", \"Network communication : control Near Field Communication (D)\", \"Network communication : create Bluetooth connections (D)\", \"Network communication : full Internet access (D)\", \"Network communication : full Internet access (D)\", \"Network communication : full Internet access (D)\", \"Network communication : full Internet access (D)\", \"Network communication : full Internet access (D)\", \"Network communication : full Internet access (D)\", \"Network communication : full Internet access (D)\", \"Network communication : full Internet access (D)\", \"Network communication : full Internet access (D)\", \"Network communication : make/receive Internet calls (D)\", \"Network communication : receive data from Internet (S)\", \"Network communication : view Wi-Fi state (S)\", \"Network communication : view Wi-Fi state (S)\", \"Network communication : view network state (S)\", \"Network communication : view network state (S)\", \"Network communication : view network state (S)\", \"Network communication : view network state (S)\", \"Network communication : view network state (S)\", \"Network communication : view network state (S)\", \"Network communication : view network state (S)\", \"Network communication : view network state (S)\", \"Network communication : view network state (S)\", \"Phone calls : intercept outgoing calls (D)\", \"Phone calls : intercept outgoing calls (D)\", \"Phone calls : modify phone state (S)\", \"Phone calls : modify phone state (S)\", \"Phone calls : read phone state and identity (D)\", \"Phone calls : read phone state and identity (D)\", \"Phone calls : read phone state and identity (D)\", \"Phone calls : read phone state and identity (D)\", \"Phone calls : read phone state and identity (D)\", \"Phone calls : read phone state and identity (D)\", \"Phone calls : read phone state and identity (D)\", \"Services that cost you money : directly call phone numbers (D)\", \"Services that cost you money : directly call phone numbers (D)\", \"Services that cost you money : send SMS messages (D)\", \"Storage : modify/delete USB storage contents modify/delete SD card contents (D)\", \"Storage : modify/delete USB storage contents modify/delete SD card contents (D)\", \"Storage : modify/delete USB storage contents modify/delete SD card contents (D)\", \"Storage : modify/delete USB storage contents modify/delete SD card contents (D)\", \"Storage : modify/delete USB storage contents modify/delete SD card contents (D)\", \"Storage : modify/delete USB storage contents modify/delete SD card contents (D)\", \"Storage : modify/delete USB storage contents modify/delete SD card contents (D)\", \"Storage : modify/delete USB storage contents modify/delete SD card contents (D)\", \"System tools : allow Wi-Fi Multicast reception (D)\", \"System tools : automatically start at boot (S)\", \"System tools : automatically start at boot (S)\", \"System tools : automatically start at boot (S)\", \"System tools : bluetooth administration (D)\", \"System tools : change Wi-Fi state (D)\", \"System tools : change network connectivity (D)\", \"System tools : change your UI settings (D)\", \"System tools : delete all application cache data (D)\", \"System tools : disable keylock (D)\", \"System tools : display system-level alerts (D)\", \"System tools : expand/collapse status bar (S)\", \"System tools : force stop other applications (S)\", \"System tools : kill background processes (S)\", \"System tools : make application always run (D)\", \"System tools : measure application storage space (S)\", \"System tools : modify global animation speed (D)\", \"System tools : modify global system settings (D)\", \"System tools : modify global system settings (D)\", \"System tools : modify global system settings (D)\", \"System tools : mount and unmount filesystems (D)\", \"System tools : prevent device from sleeping (D)\", \"System tools : prevent device from sleeping (D)\", \"System tools : prevent device from sleeping (D)\", \"System tools : prevent device from sleeping (D)\", \"System tools : prevent device from sleeping (D)\", \"System tools : read subscribed feeds (S)\", \"System tools : read sync settings (S)\", \"System tools : read sync statistics (S)\", \"System tools : retrieve running applications (D)\", \"System tools : retrieve running applications (D)\", \"System tools : retrieve running applications (D)\", \"System tools : send package removed broadcast (S)\", \"System tools : send sticky broadcast (S)\", \"System tools : set preferred applications (S)\", \"System tools : set wallpaper (S)\", \"System tools : set wallpaper size hints (S)\", \"System tools : write Access Point Name settings (D)\", \"System tools : write subscribed feeds (D)\", \"System tools : write sync settings (D)\", \"Your accounts : YouTube usernames (D)\", \"Your accounts : access all Google services (S)\", \"Your accounts : access other Google services (D)\", \"Your accounts : act as an account authenticator (D)\", \"Your accounts : act as the AccountManagerService (S)\", \"Your accounts : discover known accounts (S)\", \"Your accounts : manage the accounts list (D)\", \"Your accounts : use the authentication credentials of an account (D)\", \"Your accounts : view configured accounts (S)\", \"Your location : access extra location provider commands (S)\", \"Your location : coarse (network-based) location (D)\", \"Your location : coarse (network-based) location (D)\", \"Your location : coarse (network-based) location (D)\", \"Your location : coarse (network-based) location (D)\", \"Your location : fine (GPS) location (D)\", \"Your location : fine (GPS) location (D)\", \"Your location : fine (GPS) location (D)\", \"Your location : fine (GPS) location (D)\", \"Your location : mock location sources for testing (D)\", \"Your messages : edit SMS or MMS (D)\", \"Your messages : edit SMS or MMS (D)\", \"Your messages : read Gmail (D)\", \"Your messages : read SMS or MMS (D)\", \"Your messages : read SMS or MMS (D)\", \"Your messages : receive MMS (D)\", \"Your messages : receive SMS (D)\", \"Your messages : receive WAP (D)\", \"Your messages : send SMS-received broadcast (S)\", \"Your personal information : add or modify calendar events and send email to guests (D)\", \"Your personal information : choose widgets (S)\", \"Your personal information : read Browser's history and bookmarks (D)\", \"Your personal information : read calendar events (D)\", \"Your personal information : read contact data (D)\", \"Your personal information : read contact data (D)\", \"Your personal information : read contact data (D)\", \"Your personal information : read sensitive log data (D)\", \"Your personal information : read user defined dictionary (D)\", \"Your personal information : set alarm in alarm clock (S)\", \"Your personal information : write Browser's history and bookmarks (D)\", \"Your personal information : write contact data (D)\", \"Your personal information : write contact data (D)\", \"Your personal information : write to user defined dictionary (S)\"]}, \"R\": 30, \"lambda.step\": 0.01, \"plot.opts\": {\"xlab\": \"PC1\", \"ylab\": \"PC2\"}, \"topic.order\": [1, 2, 9, 4, 5, 8, 3, 7, 10, 6]};\n",
       "\n",
       "function LDAvis_load_lib(url, callback){\n",
       "  var s = document.createElement('script');\n",
       "  s.src = url;\n",
       "  s.async = true;\n",
       "  s.onreadystatechange = s.onload = callback;\n",
       "  s.onerror = function(){console.warn(\"failed to load library \" + url);};\n",
       "  document.getElementsByTagName(\"head\")[0].appendChild(s);\n",
       "}\n",
       "\n",
       "if(typeof(LDAvis) !== \"undefined\"){\n",
       "   // already loaded: just create the visualization\n",
       "   !function(LDAvis){\n",
       "       new LDAvis(\"#\" + \"ldavis_el8624447450298167507552266\", ldavis_el8624447450298167507552266_data);\n",
       "   }(LDAvis);\n",
       "}else if(typeof define === \"function\" && define.amd){\n",
       "   // require.js is available: use it to load d3/LDAvis\n",
       "   require.config({paths: {d3: \"https://cdnjs.cloudflare.com/ajax/libs/d3/3.5.5/d3.min\"}});\n",
       "   require([\"d3\"], function(d3){\n",
       "      window.d3 = d3;\n",
       "      LDAvis_load_lib(\"https://cdn.rawgit.com/bmabey/pyLDAvis/files/ldavis.v1.0.0.js\", function(){\n",
       "        new LDAvis(\"#\" + \"ldavis_el8624447450298167507552266\", ldavis_el8624447450298167507552266_data);\n",
       "      });\n",
       "    });\n",
       "}else{\n",
       "    // require.js not available: dynamically load d3 & LDAvis\n",
       "    LDAvis_load_lib(\"https://cdnjs.cloudflare.com/ajax/libs/d3/3.5.5/d3.min.js\", function(){\n",
       "         LDAvis_load_lib(\"https://cdn.rawgit.com/bmabey/pyLDAvis/files/ldavis.v1.0.0.js\", function(){\n",
       "                 new LDAvis(\"#\" + \"ldavis_el8624447450298167507552266\", ldavis_el8624447450298167507552266_data);\n",
       "            })\n",
       "         });\n",
       "}\n",
       "</script>"
      ],
      "text/plain": [
       "<IPython.core.display.HTML object>"
      ]
     },
     "execution_count": 17,
     "metadata": {},
     "output_type": "execute_result"
    }
   ],
   "source": [
    "import pyLDAvis\n",
    "topics_vis_data = pyLDAvis.prepare(**topic_model_data)\n",
    "pyLDAvis.display(topics_vis_data)"
   ]
  },
  {
   "cell_type": "markdown",
   "metadata": {},
   "source": [
    "##### Visualize the document-topic proportion matrix in 2-D using t-SNE [10 points]\n",
    "\n",
    "Does our reduced dimensional space contain any structure? Visualize the documents (in the topic-space) using t-SNE.\n",
    "\n",
    "   * Use `TSNE` from `scikit-learn`.\n",
    "   * Set the angle to 0.99 and init to 'PCA'. Try different learning rates.\n",
    "   * Remember to call `fit_transform`.\n",
    "   * You may plot a sample of the data (>1000 documents) instead of the full data.\n",
    "   * Plot the t-SNE dimensions as a scatterplot.\n",
    "   * Color each point based on its most probable topic. Make sure you include a legend.\n",
    "   \n",
    "Clusters in the t-SNE plot indicate groups of apps that have similar topics."
   ]
  },
  {
   "cell_type": "code",
   "execution_count": 27,
   "metadata": {},
   "outputs": [
    {
     "name": "stdout",
     "output_type": "stream",
     "text": [
      "CPU times: user 16.5 s, sys: 1.97 s, total: 18.5 s\n",
      "Wall time: 18.8 s\n"
     ]
    }
   ],
   "source": [
    "%%time\n",
    "# your code here\n",
    "from sklearn.manifold import TSNE\n",
    "plot_data = lda_app[:1500]\n",
    "tsne = TSNE(n_components=2, angle=0.99, init='pca', learning_rate=100)#\n",
    "tsne_results = tsne.fit_transform(plot_data) #take the first 1000"
   ]
  },
  {
   "cell_type": "code",
   "execution_count": 40,
   "metadata": {
    "collapsed": true
   },
   "outputs": [],
   "source": [
    "df_tsne_topic = pd.DataFrame(plot_data)\n",
    "df_tsne_topic['x-tsne'] = tsne_results[:,0]\n",
    "df_tsne_topic['y-tsne'] = tsne_results[:,1]\n",
    "df_tsne_topic['topic'] =None"
   ]
  },
  {
   "cell_type": "code",
   "execution_count": 41,
   "metadata": {},
   "outputs": [
    {
     "name": "stderr",
     "output_type": "stream",
     "text": [
      "/anaconda3/lib/python3.6/site-packages/ipykernel_launcher.py:3: SettingWithCopyWarning: \n",
      "A value is trying to be set on a copy of a slice from a DataFrame\n",
      "\n",
      "See the caveats in the documentation: http://pandas.pydata.org/pandas-docs/stable/indexing.html#indexing-view-versus-copy\n",
      "  This is separate from the ipykernel package so we can avoid doing imports until\n"
     ]
    },
    {
     "data": {
      "text/html": [
       "<div>\n",
       "<style>\n",
       "    .dataframe thead tr:only-child th {\n",
       "        text-align: right;\n",
       "    }\n",
       "\n",
       "    .dataframe thead th {\n",
       "        text-align: left;\n",
       "    }\n",
       "\n",
       "    .dataframe tbody tr th {\n",
       "        vertical-align: top;\n",
       "    }\n",
       "</style>\n",
       "<table border=\"1\" class=\"dataframe\">\n",
       "  <thead>\n",
       "    <tr style=\"text-align: right;\">\n",
       "      <th></th>\n",
       "      <th>0</th>\n",
       "      <th>1</th>\n",
       "      <th>2</th>\n",
       "      <th>3</th>\n",
       "      <th>4</th>\n",
       "      <th>5</th>\n",
       "      <th>6</th>\n",
       "      <th>7</th>\n",
       "      <th>8</th>\n",
       "      <th>9</th>\n",
       "      <th>x-tsne</th>\n",
       "      <th>y-tsne</th>\n",
       "      <th>topic</th>\n",
       "    </tr>\n",
       "  </thead>\n",
       "  <tbody>\n",
       "    <tr>\n",
       "      <th>0</th>\n",
       "      <td>0.018410</td>\n",
       "      <td>0.018407</td>\n",
       "      <td>0.590829</td>\n",
       "      <td>0.111976</td>\n",
       "      <td>0.018409</td>\n",
       "      <td>0.018406</td>\n",
       "      <td>0.018408</td>\n",
       "      <td>0.018408</td>\n",
       "      <td>0.018408</td>\n",
       "      <td>0.168340</td>\n",
       "      <td>32.033863</td>\n",
       "      <td>-3.191929</td>\n",
       "      <td>2</td>\n",
       "    </tr>\n",
       "    <tr>\n",
       "      <th>1</th>\n",
       "      <td>0.100000</td>\n",
       "      <td>0.100000</td>\n",
       "      <td>0.100000</td>\n",
       "      <td>0.100000</td>\n",
       "      <td>0.100000</td>\n",
       "      <td>0.100000</td>\n",
       "      <td>0.100000</td>\n",
       "      <td>0.100000</td>\n",
       "      <td>0.100000</td>\n",
       "      <td>0.100000</td>\n",
       "      <td>-1.447469</td>\n",
       "      <td>-14.062809</td>\n",
       "      <td>9</td>\n",
       "    </tr>\n",
       "    <tr>\n",
       "      <th>2</th>\n",
       "      <td>0.100000</td>\n",
       "      <td>0.100000</td>\n",
       "      <td>0.100000</td>\n",
       "      <td>0.100000</td>\n",
       "      <td>0.100000</td>\n",
       "      <td>0.100000</td>\n",
       "      <td>0.100000</td>\n",
       "      <td>0.100000</td>\n",
       "      <td>0.100000</td>\n",
       "      <td>0.100000</td>\n",
       "      <td>2.784754</td>\n",
       "      <td>-13.552629</td>\n",
       "      <td>9</td>\n",
       "    </tr>\n",
       "    <tr>\n",
       "      <th>3</th>\n",
       "      <td>0.022401</td>\n",
       "      <td>0.022391</td>\n",
       "      <td>0.462376</td>\n",
       "      <td>0.132848</td>\n",
       "      <td>0.022397</td>\n",
       "      <td>0.117187</td>\n",
       "      <td>0.022393</td>\n",
       "      <td>0.022393</td>\n",
       "      <td>0.022394</td>\n",
       "      <td>0.153219</td>\n",
       "      <td>30.186495</td>\n",
       "      <td>1.823570</td>\n",
       "      <td>2</td>\n",
       "    </tr>\n",
       "    <tr>\n",
       "      <th>4</th>\n",
       "      <td>0.034379</td>\n",
       "      <td>0.034385</td>\n",
       "      <td>0.034377</td>\n",
       "      <td>0.034377</td>\n",
       "      <td>0.448628</td>\n",
       "      <td>0.276335</td>\n",
       "      <td>0.034388</td>\n",
       "      <td>0.034378</td>\n",
       "      <td>0.034378</td>\n",
       "      <td>0.034375</td>\n",
       "      <td>-14.215281</td>\n",
       "      <td>8.328318</td>\n",
       "      <td>4</td>\n",
       "    </tr>\n",
       "  </tbody>\n",
       "</table>\n",
       "</div>"
      ],
      "text/plain": [
       "          0         1         2         3         4         5         6  \\\n",
       "0  0.018410  0.018407  0.590829  0.111976  0.018409  0.018406  0.018408   \n",
       "1  0.100000  0.100000  0.100000  0.100000  0.100000  0.100000  0.100000   \n",
       "2  0.100000  0.100000  0.100000  0.100000  0.100000  0.100000  0.100000   \n",
       "3  0.022401  0.022391  0.462376  0.132848  0.022397  0.117187  0.022393   \n",
       "4  0.034379  0.034385  0.034377  0.034377  0.448628  0.276335  0.034388   \n",
       "\n",
       "          7         8         9     x-tsne     y-tsne topic  \n",
       "0  0.018408  0.018408  0.168340  32.033863  -3.191929     2  \n",
       "1  0.100000  0.100000  0.100000  -1.447469 -14.062809     9  \n",
       "2  0.100000  0.100000  0.100000   2.784754 -13.552629     9  \n",
       "3  0.022393  0.022394  0.153219  30.186495   1.823570     2  \n",
       "4  0.034378  0.034378  0.034375 -14.215281   8.328318     4  "
      ]
     },
     "execution_count": 41,
     "metadata": {},
     "output_type": "execute_result"
    }
   ],
   "source": [
    "for i in range(len(plot_data)):\n",
    "    topic_sort = np.argsort(plot_data[i])[::-1]\n",
    "    df_tsne_topic['topic'][i]= topic_sort[0]\n",
    "df_tsne_topic.head()"
   ]
  },
  {
   "cell_type": "code",
   "execution_count": 42,
   "metadata": {},
   "outputs": [
    {
     "data": {
      "image/png": "[encoded data removed]",
      "text/plain": [
       "<matplotlib.figure.Figure at 0x11f775198>"
      ]
     },
     "metadata": {},
     "output_type": "display_data"
    }
   ],
   "source": [
    "import matplotlib.cm as cm\n",
    "\n",
    "topics = [i for  i in df_tsne['topic']]\n",
    "x = np.arange(10)\n",
    "ys = [i+x+(i*x)**2 for i in range(10)]\n",
    "colors = iter(cm.rainbow(np.linspace(0, 1, len(ys))))\n",
    "\n",
    "for (i,topic) in enumerate(set(topics)):\n",
    "    xc = [x for (j,x) in enumerate(df_tsne_topic['x-tsne']) if df_tsne_topic['topic'][j]== topic]\n",
    "    yc = [y for (j,y) in enumerate(df_tsne_topic['y-tsne']) if df_tsne_topic['topic'][j]== topic]\n",
    "    plt.scatter(xc, yc, c=next(colors),label='topic'+str(i)) \n",
    "plt.xlabel(\"x-tsne\")\n",
    "plt.ylabel(\"y-tsne\")\n",
    "plt.legend(loc='best')\n",
    "plt.show()"
   ]
  },
  {
   "cell_type": "markdown",
   "metadata": {},
   "source": [
    "# Re-visualize the document-topic proportion matrix in 2-D using t-SNE [2.5 points]\n",
    "\n",
    "   * Repeat the previous exercise, but colour the points based on their category.\n",
    "   * Only plot apps in the top 10 most frequent categories.\n",
    "\n",
    "You can now guess how your topics relate to the categories available in the app store. Some topics may correspond exactly to a specific category, while others may be a combination. Is there any topic (based on the plot above) that is very homogenous in its app categories? What is the topic and categories?"
   ]
  },
  {
   "cell_type": "code",
   "execution_count": 30,
   "metadata": {
    "collapsed": true
   },
   "outputs": [],
   "source": [
    "# find the 10 most common categories\n",
    "from collections import Counter\n",
    "c = Counter(df['Category'])\n",
    "top10_categories = c.most_common(10)\n",
    "categories = [catetory for catetory, count in top10_categories]"
   ]
  },
  {
   "cell_type": "code",
   "execution_count": 31,
   "metadata": {},
   "outputs": [
    {
     "name": "stdout",
     "output_type": "stream",
     "text": [
      "CPU times: user 17.4 s, sys: 2.14 s, total: 19.5 s\n",
      "Wall time: 20.4 s\n"
     ]
    }
   ],
   "source": [
    "%%time\n",
    "category_tsne_results = tsne.fit_transform(plot_data) #take the first 1000"
   ]
  },
  {
   "cell_type": "code",
   "execution_count": 32,
   "metadata": {
    "collapsed": true
   },
   "outputs": [],
   "source": [
    "category_df_tsne = pd.DataFrame(plot_data)\n",
    "category_df_tsne['x-tsne'] = category_tsne_results[:,0]\n",
    "category_df_tsne['y-tsne'] = category_tsne_results[:,1]\n",
    "category_df_tsne['category'] =None"
   ]
  },
  {
   "cell_type": "code",
   "execution_count": 33,
   "metadata": {},
   "outputs": [
    {
     "name": "stderr",
     "output_type": "stream",
     "text": [
      "/anaconda3/lib/python3.6/site-packages/ipykernel_launcher.py:4: SettingWithCopyWarning: \n",
      "A value is trying to be set on a copy of a slice from a DataFrame\n",
      "\n",
      "See the caveats in the documentation: http://pandas.pydata.org/pandas-docs/stable/indexing.html#indexing-view-versus-copy\n",
      "  after removing the cwd from sys.path.\n"
     ]
    }
   ],
   "source": [
    "for i in range(len(plot_data)):\n",
    "    if df[\"Category\"][i] in categories:\n",
    "        #print(df[\"Category\"][i])\n",
    "        category_df_tsne['category'][i]= df[\"Category\"][i]"
   ]
  },
  {
   "cell_type": "code",
   "execution_count": 34,
   "metadata": {},
   "outputs": [
    {
     "data": {
      "image/png": "[encoded data removed]",
      "text/plain": [
       "<matplotlib.figure.Figure at 0x1215ecf60>"
      ]
     },
     "metadata": {},
     "output_type": "display_data"
    }
   ],
   "source": [
    "import matplotlib.cm as cm\n",
    "\n",
    "categories = [cateory for cateory in category_df_tsne['category']]\n",
    "x = np.arange(10)\n",
    "ys = [i+x+(i*x)**2 for i in range(10)]\n",
    "colors = iter(cm.rainbow(np.linspace(0, 1, len(ys))))\n",
    "\n",
    "for (i,category) in enumerate(set(categories)):\n",
    "    xc = [x for (j,x) in enumerate(category_df_tsne['x-tsne']) if category_df_tsne['category'][j]== category]\n",
    "    yc = [y for (j,y) in enumerate(category_df_tsne['y-tsne']) if category_df_tsne['category'][j]== category]\n",
    "    plt.scatter(xc, yc, c=next(colors),label=category) \n",
    "plt.xlabel(\"x-tsne\")\n",
    "plt.ylabel(\"y-tsne\")\n",
    "plt.legend(loc='best')\n",
    "plt.show()"
   ]
  },
  {
   "cell_type": "markdown",
   "metadata": {},
   "source": [
    "### [Bonus] More insights. [2.5 points]\n",
    "\n",
    "We have only touched the surface of this dataset; many more insights remain to be uncovered. Come up with more questions and *data-driven* answers to them. Some example questions:\n",
    "\n",
    "   - What is the relationship between topics derived from the app descriptions and topics derived from their permissions? How can they be connected and compared?\n",
    "   - Is the categorization that the Android app store provides adequate? Are the topics within a category homogenous? Can you suggest an alternate categorization?"
   ]
  },
  {
   "cell_type": "markdown",
   "metadata": {},
   "source": [
    "**1. Some topics may correspond to similar app descriptions. we can plot apps with app descriptions, for example we may take the top 10 kind of descriptions.    \n",
    "2.From the above plot, we can see there are more tools and entertainmnet apps, but rare lifestyle apps. Some topics are correspond to the category, some are a combination. We may use packages(e.g. package name start with the same characters) as an alternate categorization.**"
   ]
  },
  {
   "cell_type": "markdown",
   "metadata": {},
   "source": [
    "### [Bonus] Malware [5 points]\n",
    "\n",
    "This dataset contains Android app permissions labelled with whether they were malware or not: https://www.kaggle.com/xwolf12/datasetandroidpermissions\n",
    "\n",
    "Could you visually identify (using topic modeling, t-SNE or other tools) how malware applications differ from benign ones? Use both datasets (the current one, and the one from Kaggle)."
   ]
  }
 ],
 "metadata": {
  "kernelspec": {
   "display_name": "Python 3",
   "language": "python",
   "name": "python3"
  },
  "language_info": {
   "codemirror_mode": {
    "name": "ipython",
    "version": 3
   },
   "file_extension": ".py",
   "mimetype": "text/x-python",
   "name": "python",
   "nbconvert_exporter": "python",
   "pygments_lexer": "ipython3",
   "version": "3.6.3"
  }
 },
 "nbformat": 4,
 "nbformat_minor": 2
}
